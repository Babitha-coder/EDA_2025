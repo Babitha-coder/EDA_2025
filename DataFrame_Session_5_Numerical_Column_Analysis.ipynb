{
 "cells": [
  {
   "cell_type": "markdown",
   "id": "faa36f5a-fa2f-4a90-9312-a5b77ef68169",
   "metadata": {},
   "source": [
    "**Import packages**"
   ]
  },
  {
   "cell_type": "code",
   "execution_count": 3,
   "id": "3c70f339-a19b-4fb7-98c3-0009380faae3",
   "metadata": {},
   "outputs": [],
   "source": [
    "import pandas as pd\n",
    "import numpy as np\n",
    "import matplotlib.pyplot as plt\n",
    "import seaborn as sns"
   ]
  },
  {
   "cell_type": "markdown",
   "id": "bc2fa3aa-a929-4957-ad3c-a9daa89b3e29",
   "metadata": {},
   "source": [
    "**Read the Data**"
   ]
  },
  {
   "cell_type": "code",
   "execution_count": 4,
   "id": "f2545656-0fa2-473b-966b-0297ff1e0ca9",
   "metadata": {},
   "outputs": [],
   "source": [
    "file_path=r'C:\\Users\\vamsh\\Documents\\DataFiles\\DataSet\\Visadataset.csv'\n",
    "visa_df=pd.read_csv(file_path)"
   ]
  },
  {
   "cell_type": "markdown",
   "id": "bf3d6d6f-62cb-4127-be08-4f52e7f1b889",
   "metadata": {},
   "source": [
    "**Divide into catagorical and numerical**"
   ]
  },
  {
   "cell_type": "code",
   "execution_count": 82,
   "id": "67fbcb0c-e2b4-4e75-8e4b-7a6ef2a359b7",
   "metadata": {},
   "outputs": [],
   "source": [
    "types=visa_df.dtypes.to_dict()\n",
    "cat=[i for i,j in types.items() if j=='object']\n",
    "num=[i for i,j in types.items() if j!='object']"
   ]
  },
  {
   "cell_type": "markdown",
   "id": "d00715b7-9183-4720-91e2-c0dcaa8a5e3a",
   "metadata": {},
   "source": [
    "**Prevailing wage**"
   ]
  },
  {
   "cell_type": "code",
   "execution_count": 8,
   "id": "58472f7c-ec43-4656-be36-232b4dcca09e",
   "metadata": {},
   "outputs": [
    {
     "data": {
      "text/plain": [
       "0           592.2029\n",
       "1         83425.6500\n",
       "2        122996.8600\n",
       "3         83434.0300\n",
       "4        149907.3900\n",
       "            ...     \n",
       "25475     77092.5700\n",
       "25476    279174.7900\n",
       "25477    146298.8500\n",
       "25478     86154.7700\n",
       "25479     70876.9100\n",
       "Name: prevailing_wage, Length: 25480, dtype: float64"
      ]
     },
     "execution_count": 8,
     "metadata": {},
     "output_type": "execute_result"
    }
   ],
   "source": [
    "visa_df['prevailing_wage']"
   ]
  },
  {
   "cell_type": "code",
   "execution_count": 10,
   "id": "3202edae-73c9-40e5-a09d-1da108d1b0b4",
   "metadata": {},
   "outputs": [],
   "source": [
    "wage_data=visa_df['prevailing_wage']"
   ]
  },
  {
   "cell_type": "code",
   "execution_count": 12,
   "id": "296259e0-c7d2-46a9-9c16-f3934505c744",
   "metadata": {},
   "outputs": [],
   "source": [
    "Count=len(wage_data)"
   ]
  },
  {
   "cell_type": "code",
   "execution_count": 14,
   "id": "5a797c75-217b-40e4-a36e-9d712277383a",
   "metadata": {},
   "outputs": [
    {
     "data": {
      "text/plain": [
       "25480"
      ]
     },
     "execution_count": 14,
     "metadata": {},
     "output_type": "execute_result"
    }
   ],
   "source": [
    "Count"
   ]
  },
  {
   "cell_type": "code",
   "execution_count": 16,
   "id": "e6cbbe4e-d107-4daa-9fb0-b9c34814002a",
   "metadata": {},
   "outputs": [
    {
     "data": {
      "text/plain": [
       "2.1367"
      ]
     },
     "execution_count": 16,
     "metadata": {},
     "output_type": "execute_result"
    }
   ],
   "source": [
    "np.min(wage_data)"
   ]
  },
  {
   "cell_type": "code",
   "execution_count": 18,
   "id": "a4cb037d-2ab9-4004-b9d7-30f49f6248ef",
   "metadata": {},
   "outputs": [],
   "source": [
    "Min=round(np.min(wage_data),2)"
   ]
  },
  {
   "cell_type": "code",
   "execution_count": 20,
   "id": "43f41afb-074e-47f7-b79d-3c06417877f8",
   "metadata": {},
   "outputs": [
    {
     "data": {
      "text/plain": [
       "2.14"
      ]
     },
     "execution_count": 20,
     "metadata": {},
     "output_type": "execute_result"
    }
   ],
   "source": [
    "Min"
   ]
  },
  {
   "cell_type": "code",
   "execution_count": 22,
   "id": "8dd79721-d0e7-465d-b896-df744876b367",
   "metadata": {},
   "outputs": [
    {
     "data": {
      "text/plain": [
       "319210.27"
      ]
     },
     "execution_count": 22,
     "metadata": {},
     "output_type": "execute_result"
    }
   ],
   "source": [
    "np.max(wage_data)"
   ]
  },
  {
   "cell_type": "code",
   "execution_count": 24,
   "id": "01c4413e-dc30-44b1-b14b-1d43e458af66",
   "metadata": {},
   "outputs": [
    {
     "data": {
      "text/plain": [
       "319210.27"
      ]
     },
     "execution_count": 24,
     "metadata": {},
     "output_type": "execute_result"
    }
   ],
   "source": [
    "Max=round(np.max(wage_data),2)\n",
    "Max"
   ]
  },
  {
   "cell_type": "code",
   "execution_count": 26,
   "id": "8b9b5f8d-d224-4df5-9253-af2b1b3aa067",
   "metadata": {},
   "outputs": [
    {
     "data": {
      "text/plain": [
       "74455.81"
      ]
     },
     "execution_count": 26,
     "metadata": {},
     "output_type": "execute_result"
    }
   ],
   "source": [
    "Mean=round(np.mean(wage_data),2)\n",
    "Mean"
   ]
  },
  {
   "cell_type": "code",
   "execution_count": 28,
   "id": "1ddf1f50-19cb-4653-897e-31bec14a53a2",
   "metadata": {},
   "outputs": [
    {
     "data": {
      "text/plain": [
       "70308.21"
      ]
     },
     "execution_count": 28,
     "metadata": {},
     "output_type": "execute_result"
    }
   ],
   "source": [
    "Median=round(np.median(wage_data),2)\n",
    "Median"
   ]
  },
  {
   "cell_type": "code",
   "execution_count": 30,
   "id": "0ffef7e8-2b4f-42a9-9607-ec628e9b5e5e",
   "metadata": {},
   "outputs": [],
   "source": [
    "index=['Count','Min','Max','Mean','Median']\n",
    "values=[Count,Min,Max,Mean,Median]"
   ]
  },
  {
   "cell_type": "code",
   "execution_count": 32,
   "id": "e00420ef-d667-46d2-a023-593f56bd5658",
   "metadata": {},
   "outputs": [
    {
     "data": {
      "text/html": [
       "<div>\n",
       "<style scoped>\n",
       "    .dataframe tbody tr th:only-of-type {\n",
       "        vertical-align: middle;\n",
       "    }\n",
       "\n",
       "    .dataframe tbody tr th {\n",
       "        vertical-align: top;\n",
       "    }\n",
       "\n",
       "    .dataframe thead th {\n",
       "        text-align: right;\n",
       "    }\n",
       "</style>\n",
       "<table border=\"1\" class=\"dataframe\">\n",
       "  <thead>\n",
       "    <tr style=\"text-align: right;\">\n",
       "      <th></th>\n",
       "      <th>0</th>\n",
       "    </tr>\n",
       "  </thead>\n",
       "  <tbody>\n",
       "    <tr>\n",
       "      <th>0</th>\n",
       "      <td>25480.00</td>\n",
       "    </tr>\n",
       "    <tr>\n",
       "      <th>1</th>\n",
       "      <td>2.14</td>\n",
       "    </tr>\n",
       "    <tr>\n",
       "      <th>2</th>\n",
       "      <td>319210.27</td>\n",
       "    </tr>\n",
       "    <tr>\n",
       "      <th>3</th>\n",
       "      <td>74455.81</td>\n",
       "    </tr>\n",
       "    <tr>\n",
       "      <th>4</th>\n",
       "      <td>70308.21</td>\n",
       "    </tr>\n",
       "  </tbody>\n",
       "</table>\n",
       "</div>"
      ],
      "text/plain": [
       "           0\n",
       "0   25480.00\n",
       "1       2.14\n",
       "2  319210.27\n",
       "3   74455.81\n",
       "4   70308.21"
      ]
     },
     "execution_count": 32,
     "metadata": {},
     "output_type": "execute_result"
    }
   ],
   "source": [
    "pd.DataFrame(values)"
   ]
  },
  {
   "cell_type": "code",
   "execution_count": 34,
   "id": "f0b77f57-8b49-48ea-9b89-b6d3af7c3715",
   "metadata": {},
   "outputs": [
    {
     "data": {
      "text/html": [
       "<div>\n",
       "<style scoped>\n",
       "    .dataframe tbody tr th:only-of-type {\n",
       "        vertical-align: middle;\n",
       "    }\n",
       "\n",
       "    .dataframe tbody tr th {\n",
       "        vertical-align: top;\n",
       "    }\n",
       "\n",
       "    .dataframe thead th {\n",
       "        text-align: right;\n",
       "    }\n",
       "</style>\n",
       "<table border=\"1\" class=\"dataframe\">\n",
       "  <thead>\n",
       "    <tr style=\"text-align: right;\">\n",
       "      <th></th>\n",
       "      <th>Prevailing_wage</th>\n",
       "    </tr>\n",
       "  </thead>\n",
       "  <tbody>\n",
       "    <tr>\n",
       "      <th>Count</th>\n",
       "      <td>25480.00</td>\n",
       "    </tr>\n",
       "    <tr>\n",
       "      <th>Min</th>\n",
       "      <td>2.14</td>\n",
       "    </tr>\n",
       "    <tr>\n",
       "      <th>Max</th>\n",
       "      <td>319210.27</td>\n",
       "    </tr>\n",
       "    <tr>\n",
       "      <th>Mean</th>\n",
       "      <td>74455.81</td>\n",
       "    </tr>\n",
       "    <tr>\n",
       "      <th>Median</th>\n",
       "      <td>70308.21</td>\n",
       "    </tr>\n",
       "  </tbody>\n",
       "</table>\n",
       "</div>"
      ],
      "text/plain": [
       "        Prevailing_wage\n",
       "Count          25480.00\n",
       "Min                2.14\n",
       "Max           319210.27\n",
       "Mean           74455.81\n",
       "Median         70308.21"
      ]
     },
     "execution_count": 34,
     "metadata": {},
     "output_type": "execute_result"
    }
   ],
   "source": [
    "pd.DataFrame(values,index=index,columns=['Prevailing_wage'])"
   ]
  },
  {
   "cell_type": "code",
   "execution_count": 36,
   "id": "b9a70832-4152-4858-bdf8-96fc1b444265",
   "metadata": {},
   "outputs": [
    {
     "data": {
      "text/plain": [
       "25480"
      ]
     },
     "execution_count": 36,
     "metadata": {},
     "output_type": "execute_result"
    }
   ],
   "source": [
    "Count=round(wage_data.count(),2)\n",
    "Count"
   ]
  },
  {
   "cell_type": "code",
   "execution_count": 38,
   "id": "07a85ec6-5c4c-4e6e-8b27-48b5c3565742",
   "metadata": {},
   "outputs": [
    {
     "data": {
      "text/plain": [
       "2.14"
      ]
     },
     "execution_count": 38,
     "metadata": {},
     "output_type": "execute_result"
    }
   ],
   "source": [
    "Min=round(wage_data.min(),2)\n",
    "Min"
   ]
  },
  {
   "cell_type": "code",
   "execution_count": 40,
   "id": "ecd0ad04-2f73-4786-81be-bd6c6f98a1d4",
   "metadata": {},
   "outputs": [],
   "source": [
    "Max=round(wage_data.max(),2)"
   ]
  },
  {
   "cell_type": "code",
   "execution_count": 42,
   "id": "aea7b5e9-b7b1-4c20-9d92-a3b2c15e7b99",
   "metadata": {},
   "outputs": [
    {
     "data": {
      "text/plain": [
       "319210.27"
      ]
     },
     "execution_count": 42,
     "metadata": {},
     "output_type": "execute_result"
    }
   ],
   "source": [
    "Max"
   ]
  },
  {
   "cell_type": "code",
   "execution_count": 44,
   "id": "09924552-fe69-4cb4-99c5-b661a28cfbab",
   "metadata": {},
   "outputs": [
    {
     "data": {
      "text/plain": [
       "74455.81"
      ]
     },
     "execution_count": 44,
     "metadata": {},
     "output_type": "execute_result"
    }
   ],
   "source": [
    "Mean=round(wage_data.mean(),2)\n",
    "Mean"
   ]
  },
  {
   "cell_type": "code",
   "execution_count": 46,
   "id": "48726b1b-2931-48aa-b2d4-7a3b27c2dc78",
   "metadata": {},
   "outputs": [
    {
     "data": {
      "text/plain": [
       "70308.21"
      ]
     },
     "execution_count": 46,
     "metadata": {},
     "output_type": "execute_result"
    }
   ],
   "source": [
    "Median=round(wage_data.median(),2)\n",
    "Median"
   ]
  },
  {
   "cell_type": "code",
   "execution_count": 48,
   "id": "cced3337-f82f-48b3-bfdd-7922df17dc25",
   "metadata": {},
   "outputs": [
    {
     "data": {
      "text/html": [
       "<div>\n",
       "<style scoped>\n",
       "    .dataframe tbody tr th:only-of-type {\n",
       "        vertical-align: middle;\n",
       "    }\n",
       "\n",
       "    .dataframe tbody tr th {\n",
       "        vertical-align: top;\n",
       "    }\n",
       "\n",
       "    .dataframe thead th {\n",
       "        text-align: right;\n",
       "    }\n",
       "</style>\n",
       "<table border=\"1\" class=\"dataframe\">\n",
       "  <thead>\n",
       "    <tr style=\"text-align: right;\">\n",
       "      <th></th>\n",
       "      <th>Prevailing_wage</th>\n",
       "    </tr>\n",
       "  </thead>\n",
       "  <tbody>\n",
       "    <tr>\n",
       "      <th>Count</th>\n",
       "      <td>25480.00</td>\n",
       "    </tr>\n",
       "    <tr>\n",
       "      <th>Min</th>\n",
       "      <td>2.14</td>\n",
       "    </tr>\n",
       "    <tr>\n",
       "      <th>Max</th>\n",
       "      <td>319210.27</td>\n",
       "    </tr>\n",
       "    <tr>\n",
       "      <th>Mean</th>\n",
       "      <td>74455.81</td>\n",
       "    </tr>\n",
       "    <tr>\n",
       "      <th>Median</th>\n",
       "      <td>70308.21</td>\n",
       "    </tr>\n",
       "  </tbody>\n",
       "</table>\n",
       "</div>"
      ],
      "text/plain": [
       "        Prevailing_wage\n",
       "Count          25480.00\n",
       "Min                2.14\n",
       "Max           319210.27\n",
       "Mean           74455.81\n",
       "Median         70308.21"
      ]
     },
     "execution_count": 48,
     "metadata": {},
     "output_type": "execute_result"
    }
   ],
   "source": [
    "pd.DataFrame(values,index=index,columns=['Prevailing_wage'])"
   ]
  },
  {
   "cell_type": "markdown",
   "id": "fcf0471e-04e9-4717-ab6f-b65105aeafc2",
   "metadata": {},
   "source": [
    "**Percentile-Quantile**"
   ]
  },
  {
   "cell_type": "code",
   "execution_count": 51,
   "id": "48e119c1-68c7-466b-a4d3-25b37558dfa1",
   "metadata": {},
   "outputs": [
    {
     "data": {
      "text/plain": [
       "70308.20999999999"
      ]
     },
     "execution_count": 51,
     "metadata": {},
     "output_type": "execute_result"
    }
   ],
   "source": [
    "np.percentile(wage_data,50)\n"
   ]
  },
  {
   "cell_type": "code",
   "execution_count": 53,
   "id": "7cbe88fe-0e95-46f9-b2bd-69bd9f7f98e6",
   "metadata": {},
   "outputs": [
    {
     "data": {
      "text/plain": [
       "70308.20999999999"
      ]
     },
     "execution_count": 53,
     "metadata": {},
     "output_type": "execute_result"
    }
   ],
   "source": [
    "np.quantile(wage_data,0.5)"
   ]
  },
  {
   "cell_type": "code",
   "execution_count": 55,
   "id": "8bbe3a40-b2cb-4167-acb1-d5d02163a5f5",
   "metadata": {},
   "outputs": [
    {
     "data": {
      "text/plain": [
       "70308.20999999999"
      ]
     },
     "execution_count": 55,
     "metadata": {},
     "output_type": "execute_result"
    }
   ],
   "source": [
    "np.median(wage_data)"
   ]
  },
  {
   "cell_type": "markdown",
   "id": "f82c2a36-cf01-47aa-a8da-79fd2aa48e39",
   "metadata": {},
   "source": [
    "- 50p=70308\n",
    "- 50 percentage of total data has less than 70308.20\n",
    "- 50 percentage of 25480 has less than 70308.20\n",
    "- 50 percentage of 12740 applicants has wages less than 70308.20"
   ]
  },
  {
   "cell_type": "code",
   "execution_count": 58,
   "id": "9367e243-0d9a-4c24-a0bd-97bbadf1d067",
   "metadata": {},
   "outputs": [
    {
     "data": {
      "text/html": [
       "<div>\n",
       "<style scoped>\n",
       "    .dataframe tbody tr th:only-of-type {\n",
       "        vertical-align: middle;\n",
       "    }\n",
       "\n",
       "    .dataframe tbody tr th {\n",
       "        vertical-align: top;\n",
       "    }\n",
       "\n",
       "    .dataframe thead th {\n",
       "        text-align: right;\n",
       "    }\n",
       "</style>\n",
       "<table border=\"1\" class=\"dataframe\">\n",
       "  <thead>\n",
       "    <tr style=\"text-align: right;\">\n",
       "      <th></th>\n",
       "      <th>case_id</th>\n",
       "      <th>continent</th>\n",
       "      <th>education_of_employee</th>\n",
       "      <th>has_job_experience</th>\n",
       "      <th>requires_job_training</th>\n",
       "      <th>no_of_employees</th>\n",
       "      <th>yr_of_estab</th>\n",
       "      <th>region_of_employment</th>\n",
       "      <th>prevailing_wage</th>\n",
       "      <th>unit_of_wage</th>\n",
       "      <th>full_time_position</th>\n",
       "      <th>case_status</th>\n",
       "    </tr>\n",
       "  </thead>\n",
       "  <tbody>\n",
       "    <tr>\n",
       "      <th>0</th>\n",
       "      <td>EZYV01</td>\n",
       "      <td>Asia</td>\n",
       "      <td>High School</td>\n",
       "      <td>N</td>\n",
       "      <td>N</td>\n",
       "      <td>14513</td>\n",
       "      <td>2007</td>\n",
       "      <td>West</td>\n",
       "      <td>592.2029</td>\n",
       "      <td>Hour</td>\n",
       "      <td>Y</td>\n",
       "      <td>Denied</td>\n",
       "    </tr>\n",
       "    <tr>\n",
       "      <th>6</th>\n",
       "      <td>EZYV07</td>\n",
       "      <td>Asia</td>\n",
       "      <td>Bachelor's</td>\n",
       "      <td>N</td>\n",
       "      <td>N</td>\n",
       "      <td>4985</td>\n",
       "      <td>1994</td>\n",
       "      <td>South</td>\n",
       "      <td>53635.3900</td>\n",
       "      <td>Year</td>\n",
       "      <td>Y</td>\n",
       "      <td>Certified</td>\n",
       "    </tr>\n",
       "    <tr>\n",
       "      <th>7</th>\n",
       "      <td>EZYV08</td>\n",
       "      <td>North America</td>\n",
       "      <td>Bachelor's</td>\n",
       "      <td>Y</td>\n",
       "      <td>N</td>\n",
       "      <td>3035</td>\n",
       "      <td>1924</td>\n",
       "      <td>West</td>\n",
       "      <td>418.2298</td>\n",
       "      <td>Hour</td>\n",
       "      <td>Y</td>\n",
       "      <td>Denied</td>\n",
       "    </tr>\n",
       "    <tr>\n",
       "      <th>9</th>\n",
       "      <td>EZYV10</td>\n",
       "      <td>Europe</td>\n",
       "      <td>Doctorate</td>\n",
       "      <td>Y</td>\n",
       "      <td>N</td>\n",
       "      <td>2251</td>\n",
       "      <td>1995</td>\n",
       "      <td>South</td>\n",
       "      <td>67514.7600</td>\n",
       "      <td>Year</td>\n",
       "      <td>Y</td>\n",
       "      <td>Certified</td>\n",
       "    </tr>\n",
       "    <tr>\n",
       "      <th>12</th>\n",
       "      <td>EZYV13</td>\n",
       "      <td>Asia</td>\n",
       "      <td>Bachelor's</td>\n",
       "      <td>Y</td>\n",
       "      <td>N</td>\n",
       "      <td>123876</td>\n",
       "      <td>1963</td>\n",
       "      <td>Northeast</td>\n",
       "      <td>28663.0500</td>\n",
       "      <td>Year</td>\n",
       "      <td>Y</td>\n",
       "      <td>Certified</td>\n",
       "    </tr>\n",
       "    <tr>\n",
       "      <th>...</th>\n",
       "      <td>...</td>\n",
       "      <td>...</td>\n",
       "      <td>...</td>\n",
       "      <td>...</td>\n",
       "      <td>...</td>\n",
       "      <td>...</td>\n",
       "      <td>...</td>\n",
       "      <td>...</td>\n",
       "      <td>...</td>\n",
       "      <td>...</td>\n",
       "      <td>...</td>\n",
       "      <td>...</td>\n",
       "    </tr>\n",
       "    <tr>\n",
       "      <th>25465</th>\n",
       "      <td>EZYV25466</td>\n",
       "      <td>North America</td>\n",
       "      <td>High School</td>\n",
       "      <td>N</td>\n",
       "      <td>N</td>\n",
       "      <td>2577</td>\n",
       "      <td>1995</td>\n",
       "      <td>South</td>\n",
       "      <td>481.2238</td>\n",
       "      <td>Hour</td>\n",
       "      <td>Y</td>\n",
       "      <td>Certified</td>\n",
       "    </tr>\n",
       "    <tr>\n",
       "      <th>25466</th>\n",
       "      <td>EZYV25467</td>\n",
       "      <td>Europe</td>\n",
       "      <td>Bachelor's</td>\n",
       "      <td>Y</td>\n",
       "      <td>N</td>\n",
       "      <td>1938</td>\n",
       "      <td>2005</td>\n",
       "      <td>West</td>\n",
       "      <td>6973.4000</td>\n",
       "      <td>Year</td>\n",
       "      <td>Y</td>\n",
       "      <td>Denied</td>\n",
       "    </tr>\n",
       "    <tr>\n",
       "      <th>25470</th>\n",
       "      <td>EZYV25471</td>\n",
       "      <td>North America</td>\n",
       "      <td>Master's</td>\n",
       "      <td>Y</td>\n",
       "      <td>N</td>\n",
       "      <td>2272</td>\n",
       "      <td>1970</td>\n",
       "      <td>Northeast</td>\n",
       "      <td>516.4101</td>\n",
       "      <td>Hour</td>\n",
       "      <td>Y</td>\n",
       "      <td>Certified</td>\n",
       "    </tr>\n",
       "    <tr>\n",
       "      <th>25473</th>\n",
       "      <td>EZYV25474</td>\n",
       "      <td>Asia</td>\n",
       "      <td>Bachelor's</td>\n",
       "      <td>Y</td>\n",
       "      <td>N</td>\n",
       "      <td>2421</td>\n",
       "      <td>2007</td>\n",
       "      <td>Northeast</td>\n",
       "      <td>22845.5600</td>\n",
       "      <td>Year</td>\n",
       "      <td>Y</td>\n",
       "      <td>Certified</td>\n",
       "    </tr>\n",
       "    <tr>\n",
       "      <th>25474</th>\n",
       "      <td>EZYV25475</td>\n",
       "      <td>Africa</td>\n",
       "      <td>Doctorate</td>\n",
       "      <td>N</td>\n",
       "      <td>N</td>\n",
       "      <td>2594</td>\n",
       "      <td>1979</td>\n",
       "      <td>Northeast</td>\n",
       "      <td>51104.7800</td>\n",
       "      <td>Year</td>\n",
       "      <td>Y</td>\n",
       "      <td>Certified</td>\n",
       "    </tr>\n",
       "  </tbody>\n",
       "</table>\n",
       "<p>12740 rows × 12 columns</p>\n",
       "</div>"
      ],
      "text/plain": [
       "         case_id      continent education_of_employee has_job_experience  \\\n",
       "0         EZYV01           Asia           High School                  N   \n",
       "6         EZYV07           Asia            Bachelor's                  N   \n",
       "7         EZYV08  North America            Bachelor's                  Y   \n",
       "9         EZYV10         Europe             Doctorate                  Y   \n",
       "12        EZYV13           Asia            Bachelor's                  Y   \n",
       "...          ...            ...                   ...                ...   \n",
       "25465  EZYV25466  North America           High School                  N   \n",
       "25466  EZYV25467         Europe            Bachelor's                  Y   \n",
       "25470  EZYV25471  North America              Master's                  Y   \n",
       "25473  EZYV25474           Asia            Bachelor's                  Y   \n",
       "25474  EZYV25475         Africa             Doctorate                  N   \n",
       "\n",
       "      requires_job_training  no_of_employees  yr_of_estab  \\\n",
       "0                         N            14513         2007   \n",
       "6                         N             4985         1994   \n",
       "7                         N             3035         1924   \n",
       "9                         N             2251         1995   \n",
       "12                        N           123876         1963   \n",
       "...                     ...              ...          ...   \n",
       "25465                     N             2577         1995   \n",
       "25466                     N             1938         2005   \n",
       "25470                     N             2272         1970   \n",
       "25473                     N             2421         2007   \n",
       "25474                     N             2594         1979   \n",
       "\n",
       "      region_of_employment  prevailing_wage unit_of_wage full_time_position  \\\n",
       "0                     West         592.2029         Hour                  Y   \n",
       "6                    South       53635.3900         Year                  Y   \n",
       "7                     West         418.2298         Hour                  Y   \n",
       "9                    South       67514.7600         Year                  Y   \n",
       "12               Northeast       28663.0500         Year                  Y   \n",
       "...                    ...              ...          ...                ...   \n",
       "25465                South         481.2238         Hour                  Y   \n",
       "25466                 West        6973.4000         Year                  Y   \n",
       "25470            Northeast         516.4101         Hour                  Y   \n",
       "25473            Northeast       22845.5600         Year                  Y   \n",
       "25474            Northeast       51104.7800         Year                  Y   \n",
       "\n",
       "      case_status  \n",
       "0          Denied  \n",
       "6       Certified  \n",
       "7          Denied  \n",
       "9       Certified  \n",
       "12      Certified  \n",
       "...           ...  \n",
       "25465   Certified  \n",
       "25466      Denied  \n",
       "25470   Certified  \n",
       "25473   Certified  \n",
       "25474   Certified  \n",
       "\n",
       "[12740 rows x 12 columns]"
      ]
     },
     "execution_count": 58,
     "metadata": {},
     "output_type": "execute_result"
    }
   ],
   "source": [
    "wage_data=visa_df['prevailing_wage']\n",
    "p_50=np.percentile(wage_data,50)\n",
    "con=wage_data<p_50\n",
    "visa_df[con]"
   ]
  },
  {
   "cell_type": "code",
   "execution_count": 60,
   "id": "0db5a854-523f-40be-8a36-00c754ddb377",
   "metadata": {},
   "outputs": [
    {
     "data": {
      "text/plain": [
       "12740"
      ]
     },
     "execution_count": 60,
     "metadata": {},
     "output_type": "execute_result"
    }
   ],
   "source": [
    "len(visa_df[con])"
   ]
  },
  {
   "cell_type": "code",
   "execution_count": 62,
   "id": "ac3ffb18-da28-475b-a0d5-da16fa7017a7",
   "metadata": {},
   "outputs": [
    {
     "data": {
      "text/html": [
       "<div>\n",
       "<style scoped>\n",
       "    .dataframe tbody tr th:only-of-type {\n",
       "        vertical-align: middle;\n",
       "    }\n",
       "\n",
       "    .dataframe tbody tr th {\n",
       "        vertical-align: top;\n",
       "    }\n",
       "\n",
       "    .dataframe thead th {\n",
       "        text-align: right;\n",
       "    }\n",
       "</style>\n",
       "<table border=\"1\" class=\"dataframe\">\n",
       "  <thead>\n",
       "    <tr style=\"text-align: right;\">\n",
       "      <th></th>\n",
       "      <th>case_id</th>\n",
       "      <th>continent</th>\n",
       "      <th>education_of_employee</th>\n",
       "      <th>has_job_experience</th>\n",
       "      <th>requires_job_training</th>\n",
       "      <th>no_of_employees</th>\n",
       "      <th>yr_of_estab</th>\n",
       "      <th>region_of_employment</th>\n",
       "      <th>prevailing_wage</th>\n",
       "      <th>unit_of_wage</th>\n",
       "      <th>full_time_position</th>\n",
       "      <th>case_status</th>\n",
       "    </tr>\n",
       "  </thead>\n",
       "  <tbody>\n",
       "    <tr>\n",
       "      <th>0</th>\n",
       "      <td>EZYV01</td>\n",
       "      <td>Asia</td>\n",
       "      <td>High School</td>\n",
       "      <td>N</td>\n",
       "      <td>N</td>\n",
       "      <td>14513</td>\n",
       "      <td>2007</td>\n",
       "      <td>West</td>\n",
       "      <td>592.2029</td>\n",
       "      <td>Hour</td>\n",
       "      <td>Y</td>\n",
       "      <td>Denied</td>\n",
       "    </tr>\n",
       "    <tr>\n",
       "      <th>7</th>\n",
       "      <td>EZYV08</td>\n",
       "      <td>North America</td>\n",
       "      <td>Bachelor's</td>\n",
       "      <td>Y</td>\n",
       "      <td>N</td>\n",
       "      <td>3035</td>\n",
       "      <td>1924</td>\n",
       "      <td>West</td>\n",
       "      <td>418.2298</td>\n",
       "      <td>Hour</td>\n",
       "      <td>Y</td>\n",
       "      <td>Denied</td>\n",
       "    </tr>\n",
       "    <tr>\n",
       "      <th>12</th>\n",
       "      <td>EZYV13</td>\n",
       "      <td>Asia</td>\n",
       "      <td>Bachelor's</td>\n",
       "      <td>Y</td>\n",
       "      <td>N</td>\n",
       "      <td>123876</td>\n",
       "      <td>1963</td>\n",
       "      <td>Northeast</td>\n",
       "      <td>28663.0500</td>\n",
       "      <td>Year</td>\n",
       "      <td>Y</td>\n",
       "      <td>Certified</td>\n",
       "    </tr>\n",
       "    <tr>\n",
       "      <th>16</th>\n",
       "      <td>EZYV17</td>\n",
       "      <td>Europe</td>\n",
       "      <td>Master's</td>\n",
       "      <td>Y</td>\n",
       "      <td>N</td>\n",
       "      <td>76638</td>\n",
       "      <td>1991</td>\n",
       "      <td>Midwest</td>\n",
       "      <td>3706.7900</td>\n",
       "      <td>Year</td>\n",
       "      <td>Y</td>\n",
       "      <td>Certified</td>\n",
       "    </tr>\n",
       "    <tr>\n",
       "      <th>17</th>\n",
       "      <td>EZYV18</td>\n",
       "      <td>Asia</td>\n",
       "      <td>Master's</td>\n",
       "      <td>Y</td>\n",
       "      <td>N</td>\n",
       "      <td>2747</td>\n",
       "      <td>2001</td>\n",
       "      <td>West</td>\n",
       "      <td>16132.6100</td>\n",
       "      <td>Year</td>\n",
       "      <td>Y</td>\n",
       "      <td>Certified</td>\n",
       "    </tr>\n",
       "    <tr>\n",
       "      <th>...</th>\n",
       "      <td>...</td>\n",
       "      <td>...</td>\n",
       "      <td>...</td>\n",
       "      <td>...</td>\n",
       "      <td>...</td>\n",
       "      <td>...</td>\n",
       "      <td>...</td>\n",
       "      <td>...</td>\n",
       "      <td>...</td>\n",
       "      <td>...</td>\n",
       "      <td>...</td>\n",
       "      <td>...</td>\n",
       "    </tr>\n",
       "    <tr>\n",
       "      <th>25461</th>\n",
       "      <td>EZYV25462</td>\n",
       "      <td>Asia</td>\n",
       "      <td>Master's</td>\n",
       "      <td>Y</td>\n",
       "      <td>N</td>\n",
       "      <td>2861</td>\n",
       "      <td>2004</td>\n",
       "      <td>West</td>\n",
       "      <td>54.9196</td>\n",
       "      <td>Hour</td>\n",
       "      <td>Y</td>\n",
       "      <td>Denied</td>\n",
       "    </tr>\n",
       "    <tr>\n",
       "      <th>25465</th>\n",
       "      <td>EZYV25466</td>\n",
       "      <td>North America</td>\n",
       "      <td>High School</td>\n",
       "      <td>N</td>\n",
       "      <td>N</td>\n",
       "      <td>2577</td>\n",
       "      <td>1995</td>\n",
       "      <td>South</td>\n",
       "      <td>481.2238</td>\n",
       "      <td>Hour</td>\n",
       "      <td>Y</td>\n",
       "      <td>Certified</td>\n",
       "    </tr>\n",
       "    <tr>\n",
       "      <th>25466</th>\n",
       "      <td>EZYV25467</td>\n",
       "      <td>Europe</td>\n",
       "      <td>Bachelor's</td>\n",
       "      <td>Y</td>\n",
       "      <td>N</td>\n",
       "      <td>1938</td>\n",
       "      <td>2005</td>\n",
       "      <td>West</td>\n",
       "      <td>6973.4000</td>\n",
       "      <td>Year</td>\n",
       "      <td>Y</td>\n",
       "      <td>Denied</td>\n",
       "    </tr>\n",
       "    <tr>\n",
       "      <th>25470</th>\n",
       "      <td>EZYV25471</td>\n",
       "      <td>North America</td>\n",
       "      <td>Master's</td>\n",
       "      <td>Y</td>\n",
       "      <td>N</td>\n",
       "      <td>2272</td>\n",
       "      <td>1970</td>\n",
       "      <td>Northeast</td>\n",
       "      <td>516.4101</td>\n",
       "      <td>Hour</td>\n",
       "      <td>Y</td>\n",
       "      <td>Certified</td>\n",
       "    </tr>\n",
       "    <tr>\n",
       "      <th>25473</th>\n",
       "      <td>EZYV25474</td>\n",
       "      <td>Asia</td>\n",
       "      <td>Bachelor's</td>\n",
       "      <td>Y</td>\n",
       "      <td>N</td>\n",
       "      <td>2421</td>\n",
       "      <td>2007</td>\n",
       "      <td>Northeast</td>\n",
       "      <td>22845.5600</td>\n",
       "      <td>Year</td>\n",
       "      <td>Y</td>\n",
       "      <td>Certified</td>\n",
       "    </tr>\n",
       "  </tbody>\n",
       "</table>\n",
       "<p>6370 rows × 12 columns</p>\n",
       "</div>"
      ],
      "text/plain": [
       "         case_id      continent education_of_employee has_job_experience  \\\n",
       "0         EZYV01           Asia           High School                  N   \n",
       "7         EZYV08  North America            Bachelor's                  Y   \n",
       "12        EZYV13           Asia            Bachelor's                  Y   \n",
       "16        EZYV17         Europe              Master's                  Y   \n",
       "17        EZYV18           Asia              Master's                  Y   \n",
       "...          ...            ...                   ...                ...   \n",
       "25461  EZYV25462           Asia              Master's                  Y   \n",
       "25465  EZYV25466  North America           High School                  N   \n",
       "25466  EZYV25467         Europe            Bachelor's                  Y   \n",
       "25470  EZYV25471  North America              Master's                  Y   \n",
       "25473  EZYV25474           Asia            Bachelor's                  Y   \n",
       "\n",
       "      requires_job_training  no_of_employees  yr_of_estab  \\\n",
       "0                         N            14513         2007   \n",
       "7                         N             3035         1924   \n",
       "12                        N           123876         1963   \n",
       "16                        N            76638         1991   \n",
       "17                        N             2747         2001   \n",
       "...                     ...              ...          ...   \n",
       "25461                     N             2861         2004   \n",
       "25465                     N             2577         1995   \n",
       "25466                     N             1938         2005   \n",
       "25470                     N             2272         1970   \n",
       "25473                     N             2421         2007   \n",
       "\n",
       "      region_of_employment  prevailing_wage unit_of_wage full_time_position  \\\n",
       "0                     West         592.2029         Hour                  Y   \n",
       "7                     West         418.2298         Hour                  Y   \n",
       "12               Northeast       28663.0500         Year                  Y   \n",
       "16                 Midwest        3706.7900         Year                  Y   \n",
       "17                    West       16132.6100         Year                  Y   \n",
       "...                    ...              ...          ...                ...   \n",
       "25461                 West          54.9196         Hour                  Y   \n",
       "25465                South         481.2238         Hour                  Y   \n",
       "25466                 West        6973.4000         Year                  Y   \n",
       "25470            Northeast         516.4101         Hour                  Y   \n",
       "25473            Northeast       22845.5600         Year                  Y   \n",
       "\n",
       "      case_status  \n",
       "0          Denied  \n",
       "7          Denied  \n",
       "12      Certified  \n",
       "16      Certified  \n",
       "17      Certified  \n",
       "...           ...  \n",
       "25461      Denied  \n",
       "25465   Certified  \n",
       "25466      Denied  \n",
       "25470   Certified  \n",
       "25473   Certified  \n",
       "\n",
       "[6370 rows x 12 columns]"
      ]
     },
     "execution_count": 62,
     "metadata": {},
     "output_type": "execute_result"
    }
   ],
   "source": [
    "wage_data=visa_df['prevailing_wage']\n",
    "p_25=np.percentile(wage_data,25)\n",
    "con=wage_data<p_25\n",
    "visa_df[con]"
   ]
  },
  {
   "cell_type": "code",
   "execution_count": 64,
   "id": "098d569d-2f60-4b7b-ae5d-e970da1f68fa",
   "metadata": {},
   "outputs": [
    {
     "data": {
      "text/plain": [
       "6370"
      ]
     },
     "execution_count": 64,
     "metadata": {},
     "output_type": "execute_result"
    }
   ],
   "source": [
    "len(visa_df[con])"
   ]
  },
  {
   "cell_type": "code",
   "execution_count": 66,
   "id": "f13cb528-8983-41da-9281-b405f5505ec8",
   "metadata": {},
   "outputs": [
    {
     "data": {
      "text/plain": [
       "True"
      ]
     },
     "execution_count": 66,
     "metadata": {},
     "output_type": "execute_result"
    }
   ],
   "source": [
    "wage_data=visa_df['prevailing_wage']\n",
    "p_25=np.percentile(wage_data,25)\n",
    "con=wage_data<p_25\n",
    "len(visa_df[con])==25*25480/100"
   ]
  },
  {
   "cell_type": "code",
   "execution_count": 68,
   "id": "c849440c-6454-474f-a69a-649299f1ed6f",
   "metadata": {},
   "outputs": [
    {
     "data": {
      "text/html": [
       "<div>\n",
       "<style scoped>\n",
       "    .dataframe tbody tr th:only-of-type {\n",
       "        vertical-align: middle;\n",
       "    }\n",
       "\n",
       "    .dataframe tbody tr th {\n",
       "        vertical-align: top;\n",
       "    }\n",
       "\n",
       "    .dataframe thead th {\n",
       "        text-align: right;\n",
       "    }\n",
       "</style>\n",
       "<table border=\"1\" class=\"dataframe\">\n",
       "  <thead>\n",
       "    <tr style=\"text-align: right;\">\n",
       "      <th></th>\n",
       "      <th>case_id</th>\n",
       "      <th>continent</th>\n",
       "      <th>education_of_employee</th>\n",
       "      <th>has_job_experience</th>\n",
       "      <th>requires_job_training</th>\n",
       "      <th>no_of_employees</th>\n",
       "      <th>yr_of_estab</th>\n",
       "      <th>region_of_employment</th>\n",
       "      <th>prevailing_wage</th>\n",
       "      <th>unit_of_wage</th>\n",
       "      <th>full_time_position</th>\n",
       "      <th>case_status</th>\n",
       "    </tr>\n",
       "  </thead>\n",
       "  <tbody>\n",
       "    <tr>\n",
       "      <th>0</th>\n",
       "      <td>EZYV01</td>\n",
       "      <td>Asia</td>\n",
       "      <td>High School</td>\n",
       "      <td>N</td>\n",
       "      <td>N</td>\n",
       "      <td>14513</td>\n",
       "      <td>2007</td>\n",
       "      <td>West</td>\n",
       "      <td>592.2029</td>\n",
       "      <td>Hour</td>\n",
       "      <td>Y</td>\n",
       "      <td>Denied</td>\n",
       "    </tr>\n",
       "    <tr>\n",
       "      <th>1</th>\n",
       "      <td>EZYV02</td>\n",
       "      <td>Asia</td>\n",
       "      <td>Master's</td>\n",
       "      <td>Y</td>\n",
       "      <td>N</td>\n",
       "      <td>2412</td>\n",
       "      <td>2002</td>\n",
       "      <td>Northeast</td>\n",
       "      <td>83425.6500</td>\n",
       "      <td>Year</td>\n",
       "      <td>Y</td>\n",
       "      <td>Certified</td>\n",
       "    </tr>\n",
       "    <tr>\n",
       "      <th>3</th>\n",
       "      <td>EZYV04</td>\n",
       "      <td>Asia</td>\n",
       "      <td>Bachelor's</td>\n",
       "      <td>N</td>\n",
       "      <td>N</td>\n",
       "      <td>98</td>\n",
       "      <td>1897</td>\n",
       "      <td>West</td>\n",
       "      <td>83434.0300</td>\n",
       "      <td>Year</td>\n",
       "      <td>Y</td>\n",
       "      <td>Denied</td>\n",
       "    </tr>\n",
       "    <tr>\n",
       "      <th>5</th>\n",
       "      <td>EZYV06</td>\n",
       "      <td>Asia</td>\n",
       "      <td>Master's</td>\n",
       "      <td>Y</td>\n",
       "      <td>N</td>\n",
       "      <td>2339</td>\n",
       "      <td>2012</td>\n",
       "      <td>South</td>\n",
       "      <td>78252.1400</td>\n",
       "      <td>Year</td>\n",
       "      <td>Y</td>\n",
       "      <td>Certified</td>\n",
       "    </tr>\n",
       "    <tr>\n",
       "      <th>6</th>\n",
       "      <td>EZYV07</td>\n",
       "      <td>Asia</td>\n",
       "      <td>Bachelor's</td>\n",
       "      <td>N</td>\n",
       "      <td>N</td>\n",
       "      <td>4985</td>\n",
       "      <td>1994</td>\n",
       "      <td>South</td>\n",
       "      <td>53635.3900</td>\n",
       "      <td>Year</td>\n",
       "      <td>Y</td>\n",
       "      <td>Certified</td>\n",
       "    </tr>\n",
       "    <tr>\n",
       "      <th>...</th>\n",
       "      <td>...</td>\n",
       "      <td>...</td>\n",
       "      <td>...</td>\n",
       "      <td>...</td>\n",
       "      <td>...</td>\n",
       "      <td>...</td>\n",
       "      <td>...</td>\n",
       "      <td>...</td>\n",
       "      <td>...</td>\n",
       "      <td>...</td>\n",
       "      <td>...</td>\n",
       "      <td>...</td>\n",
       "    </tr>\n",
       "    <tr>\n",
       "      <th>25473</th>\n",
       "      <td>EZYV25474</td>\n",
       "      <td>Asia</td>\n",
       "      <td>Bachelor's</td>\n",
       "      <td>Y</td>\n",
       "      <td>N</td>\n",
       "      <td>2421</td>\n",
       "      <td>2007</td>\n",
       "      <td>Northeast</td>\n",
       "      <td>22845.5600</td>\n",
       "      <td>Year</td>\n",
       "      <td>Y</td>\n",
       "      <td>Certified</td>\n",
       "    </tr>\n",
       "    <tr>\n",
       "      <th>25474</th>\n",
       "      <td>EZYV25475</td>\n",
       "      <td>Africa</td>\n",
       "      <td>Doctorate</td>\n",
       "      <td>N</td>\n",
       "      <td>N</td>\n",
       "      <td>2594</td>\n",
       "      <td>1979</td>\n",
       "      <td>Northeast</td>\n",
       "      <td>51104.7800</td>\n",
       "      <td>Year</td>\n",
       "      <td>Y</td>\n",
       "      <td>Certified</td>\n",
       "    </tr>\n",
       "    <tr>\n",
       "      <th>25475</th>\n",
       "      <td>EZYV25476</td>\n",
       "      <td>Asia</td>\n",
       "      <td>Bachelor's</td>\n",
       "      <td>Y</td>\n",
       "      <td>Y</td>\n",
       "      <td>2601</td>\n",
       "      <td>2008</td>\n",
       "      <td>South</td>\n",
       "      <td>77092.5700</td>\n",
       "      <td>Year</td>\n",
       "      <td>Y</td>\n",
       "      <td>Certified</td>\n",
       "    </tr>\n",
       "    <tr>\n",
       "      <th>25478</th>\n",
       "      <td>EZYV25479</td>\n",
       "      <td>Asia</td>\n",
       "      <td>Master's</td>\n",
       "      <td>Y</td>\n",
       "      <td>Y</td>\n",
       "      <td>1918</td>\n",
       "      <td>1887</td>\n",
       "      <td>West</td>\n",
       "      <td>86154.7700</td>\n",
       "      <td>Year</td>\n",
       "      <td>Y</td>\n",
       "      <td>Certified</td>\n",
       "    </tr>\n",
       "    <tr>\n",
       "      <th>25479</th>\n",
       "      <td>EZYV25480</td>\n",
       "      <td>Asia</td>\n",
       "      <td>Bachelor's</td>\n",
       "      <td>Y</td>\n",
       "      <td>N</td>\n",
       "      <td>3195</td>\n",
       "      <td>1960</td>\n",
       "      <td>Midwest</td>\n",
       "      <td>70876.9100</td>\n",
       "      <td>Year</td>\n",
       "      <td>Y</td>\n",
       "      <td>Certified</td>\n",
       "    </tr>\n",
       "  </tbody>\n",
       "</table>\n",
       "<p>19110 rows × 12 columns</p>\n",
       "</div>"
      ],
      "text/plain": [
       "         case_id continent education_of_employee has_job_experience  \\\n",
       "0         EZYV01      Asia           High School                  N   \n",
       "1         EZYV02      Asia              Master's                  Y   \n",
       "3         EZYV04      Asia            Bachelor's                  N   \n",
       "5         EZYV06      Asia              Master's                  Y   \n",
       "6         EZYV07      Asia            Bachelor's                  N   \n",
       "...          ...       ...                   ...                ...   \n",
       "25473  EZYV25474      Asia            Bachelor's                  Y   \n",
       "25474  EZYV25475    Africa             Doctorate                  N   \n",
       "25475  EZYV25476      Asia            Bachelor's                  Y   \n",
       "25478  EZYV25479      Asia              Master's                  Y   \n",
       "25479  EZYV25480      Asia            Bachelor's                  Y   \n",
       "\n",
       "      requires_job_training  no_of_employees  yr_of_estab  \\\n",
       "0                         N            14513         2007   \n",
       "1                         N             2412         2002   \n",
       "3                         N               98         1897   \n",
       "5                         N             2339         2012   \n",
       "6                         N             4985         1994   \n",
       "...                     ...              ...          ...   \n",
       "25473                     N             2421         2007   \n",
       "25474                     N             2594         1979   \n",
       "25475                     Y             2601         2008   \n",
       "25478                     Y             1918         1887   \n",
       "25479                     N             3195         1960   \n",
       "\n",
       "      region_of_employment  prevailing_wage unit_of_wage full_time_position  \\\n",
       "0                     West         592.2029         Hour                  Y   \n",
       "1                Northeast       83425.6500         Year                  Y   \n",
       "3                     West       83434.0300         Year                  Y   \n",
       "5                    South       78252.1400         Year                  Y   \n",
       "6                    South       53635.3900         Year                  Y   \n",
       "...                    ...              ...          ...                ...   \n",
       "25473            Northeast       22845.5600         Year                  Y   \n",
       "25474            Northeast       51104.7800         Year                  Y   \n",
       "25475                South       77092.5700         Year                  Y   \n",
       "25478                 West       86154.7700         Year                  Y   \n",
       "25479              Midwest       70876.9100         Year                  Y   \n",
       "\n",
       "      case_status  \n",
       "0          Denied  \n",
       "1       Certified  \n",
       "3          Denied  \n",
       "5       Certified  \n",
       "6       Certified  \n",
       "...           ...  \n",
       "25473   Certified  \n",
       "25474   Certified  \n",
       "25475   Certified  \n",
       "25478   Certified  \n",
       "25479   Certified  \n",
       "\n",
       "[19110 rows x 12 columns]"
      ]
     },
     "execution_count": 68,
     "metadata": {},
     "output_type": "execute_result"
    }
   ],
   "source": [
    "wage_data=visa_df['prevailing_wage']\n",
    "p_75=np.percentile(wage_data,75)\n",
    "con=wage_data<p_75\n",
    "visa_df[con]"
   ]
  },
  {
   "cell_type": "code",
   "execution_count": 70,
   "id": "772e768c-519a-4dbd-8ab3-d951484cf3a8",
   "metadata": {},
   "outputs": [
    {
     "data": {
      "text/plain": [
       "19110"
      ]
     },
     "execution_count": 70,
     "metadata": {},
     "output_type": "execute_result"
    }
   ],
   "source": [
    "len(visa_df[con])"
   ]
  },
  {
   "cell_type": "code",
   "execution_count": 72,
   "id": "6c9fe775-af39-4f8a-9430-435a45e19f5a",
   "metadata": {},
   "outputs": [
    {
     "data": {
      "text/plain": [
       "True"
      ]
     },
     "execution_count": 72,
     "metadata": {},
     "output_type": "execute_result"
    }
   ],
   "source": [
    "len(visa_df[con])==75*25480/100"
   ]
  },
  {
   "cell_type": "code",
   "execution_count": 78,
   "id": "f07405c2-502d-4549-a9dd-f2dbbfbccac4",
   "metadata": {},
   "outputs": [
    {
     "data": {
      "text/html": [
       "<div>\n",
       "<style scoped>\n",
       "    .dataframe tbody tr th:only-of-type {\n",
       "        vertical-align: middle;\n",
       "    }\n",
       "\n",
       "    .dataframe tbody tr th {\n",
       "        vertical-align: top;\n",
       "    }\n",
       "\n",
       "    .dataframe thead th {\n",
       "        text-align: right;\n",
       "    }\n",
       "</style>\n",
       "<table border=\"1\" class=\"dataframe\">\n",
       "  <thead>\n",
       "    <tr style=\"text-align: right;\">\n",
       "      <th></th>\n",
       "      <th>Prevailing_wage</th>\n",
       "    </tr>\n",
       "  </thead>\n",
       "  <tbody>\n",
       "    <tr>\n",
       "      <th>Count</th>\n",
       "      <td>25480.00</td>\n",
       "    </tr>\n",
       "    <tr>\n",
       "      <th>Min</th>\n",
       "      <td>2.14</td>\n",
       "    </tr>\n",
       "    <tr>\n",
       "      <th>Max</th>\n",
       "      <td>319210.27</td>\n",
       "    </tr>\n",
       "    <tr>\n",
       "      <th>Mean</th>\n",
       "      <td>74455.81</td>\n",
       "    </tr>\n",
       "    <tr>\n",
       "      <th>Median</th>\n",
       "      <td>70308.21</td>\n",
       "    </tr>\n",
       "    <tr>\n",
       "      <th>25p</th>\n",
       "      <td>34015.48</td>\n",
       "    </tr>\n",
       "    <tr>\n",
       "      <th>50p</th>\n",
       "      <td>70308.21</td>\n",
       "    </tr>\n",
       "    <tr>\n",
       "      <th>75p</th>\n",
       "      <td>107735.51</td>\n",
       "    </tr>\n",
       "    <tr>\n",
       "      <th>std</th>\n",
       "      <td>52815.94</td>\n",
       "    </tr>\n",
       "  </tbody>\n",
       "</table>\n",
       "</div>"
      ],
      "text/plain": [
       "        Prevailing_wage\n",
       "Count          25480.00\n",
       "Min                2.14\n",
       "Max           319210.27\n",
       "Mean           74455.81\n",
       "Median         70308.21\n",
       "25p            34015.48\n",
       "50p            70308.21\n",
       "75p           107735.51\n",
       "std            52815.94"
      ]
     },
     "execution_count": 78,
     "metadata": {},
     "output_type": "execute_result"
    }
   ],
   "source": [
    "wage_data=visa_df['prevailing_wage']\n",
    "Count=len(wage_data)\n",
    "min=round(np.min(wage_data),2)\n",
    "max=round(np.max(wage_data),2)\n",
    "mean=round(np.mean(wage_data),2)\n",
    "median=round(np.median(wage_data),2)\n",
    "p_25=round(np.percentile(wage_data,25),2)\n",
    "p_50=round(np.percentile(wage_data,50),2)\n",
    "p_75=round(np.percentile(wage_data,75),2)\n",
    "std = round(np.std(wage_data, ddof=1), 2) \n",
    "index=['Count','Min','Max','Mean','Median','25p','50p','75p','std']\n",
    "values=[Count,Min,Max,Mean,Median,p_25,p_50,p_75,std]\n",
    "pd.DataFrame(values,index=index,columns=['Prevailing_wage'])"
   ]
  },
  {
   "cell_type": "code",
   "execution_count": 84,
   "id": "c9293ce5-1381-4256-8fcb-862a03f6c3b0",
   "metadata": {},
   "outputs": [],
   "source": [
    "l=[]\n",
    "for i in num:\n",
    "    data=visa_df[i]\n",
    "    Count=len(data)\n",
    "    Min=round(np.min(data),2)\n",
    "    Max=round(np.max(data),2)\n",
    "    mean=round(np.mean(data),2)\n",
    "    median=round(np.median(data),2)\n",
    "    p_25=round(np.percentile(data,25),2)\n",
    "    p_50=round(np.percentile(data,50),2)\n",
    "    p_75=round(np.percentile(data,75),2)\n",
    "    std = round(np.std(data, ddof=1), 2) \n",
    "    index=['Count','Min','Max','Mean','Median','25p','50p','75p','std']\n",
    "    values=[Count,Min,Max,Mean,Median,p_25,p_50,p_75,std]\n",
    "    l.append(values)"
   ]
  },
  {
   "cell_type": "code",
   "execution_count": 44,
   "id": "b8263c44-f74f-4558-97ec-207039d31797",
   "metadata": {},
   "outputs": [
    {
     "data": {
      "text/plain": [
       "[[25480, -26, 602069, 74455.81, 70308.21, 1022.0, 2109.0, 3504.0],\n",
       " [25480, 1800, 2016, 74455.81, 70308.21, 1976.0, 1997.0, 2005.0],\n",
       " [25480, 2.14, 319210.27, 74455.81, 70308.21, 34015.48, 70308.21, 107735.51]]"
      ]
     },
     "execution_count": 44,
     "metadata": {},
     "output_type": "execute_result"
    }
   ],
   "source": [
    "l"
   ]
  },
  {
   "cell_type": "markdown",
   "id": "b7c01684-00fe-4127-8ba5-0c094772b408",
   "metadata": {},
   "source": [
    "**DATAFRAME**"
   ]
  },
  {
   "cell_type": "code",
   "execution_count": 46,
   "id": "2197d13c-e8be-409e-9e92-dbb8d325dc9d",
   "metadata": {},
   "outputs": [
    {
     "data": {
      "text/html": [
       "<div>\n",
       "<style scoped>\n",
       "    .dataframe tbody tr th:only-of-type {\n",
       "        vertical-align: middle;\n",
       "    }\n",
       "\n",
       "    .dataframe tbody tr th {\n",
       "        vertical-align: top;\n",
       "    }\n",
       "\n",
       "    .dataframe thead th {\n",
       "        text-align: right;\n",
       "    }\n",
       "</style>\n",
       "<table border=\"1\" class=\"dataframe\">\n",
       "  <thead>\n",
       "    <tr style=\"text-align: right;\">\n",
       "      <th></th>\n",
       "      <th>Count</th>\n",
       "      <th>Min</th>\n",
       "      <th>Max</th>\n",
       "      <th>Mean</th>\n",
       "      <th>Median</th>\n",
       "      <th>25p</th>\n",
       "      <th>50p</th>\n",
       "      <th>75p</th>\n",
       "    </tr>\n",
       "  </thead>\n",
       "  <tbody>\n",
       "    <tr>\n",
       "      <th>no_of_employees</th>\n",
       "      <td>25480</td>\n",
       "      <td>-26.00</td>\n",
       "      <td>602069.00</td>\n",
       "      <td>74455.81</td>\n",
       "      <td>70308.21</td>\n",
       "      <td>1022.00</td>\n",
       "      <td>2109.00</td>\n",
       "      <td>3504.00</td>\n",
       "    </tr>\n",
       "    <tr>\n",
       "      <th>yr_of_estab</th>\n",
       "      <td>25480</td>\n",
       "      <td>1800.00</td>\n",
       "      <td>2016.00</td>\n",
       "      <td>74455.81</td>\n",
       "      <td>70308.21</td>\n",
       "      <td>1976.00</td>\n",
       "      <td>1997.00</td>\n",
       "      <td>2005.00</td>\n",
       "    </tr>\n",
       "    <tr>\n",
       "      <th>prevailing_wage</th>\n",
       "      <td>25480</td>\n",
       "      <td>2.14</td>\n",
       "      <td>319210.27</td>\n",
       "      <td>74455.81</td>\n",
       "      <td>70308.21</td>\n",
       "      <td>34015.48</td>\n",
       "      <td>70308.21</td>\n",
       "      <td>107735.51</td>\n",
       "    </tr>\n",
       "  </tbody>\n",
       "</table>\n",
       "</div>"
      ],
      "text/plain": [
       "                 Count      Min        Max      Mean    Median       25p  \\\n",
       "no_of_employees  25480   -26.00  602069.00  74455.81  70308.21   1022.00   \n",
       "yr_of_estab      25480  1800.00    2016.00  74455.81  70308.21   1976.00   \n",
       "prevailing_wage  25480     2.14  319210.27  74455.81  70308.21  34015.48   \n",
       "\n",
       "                      50p        75p  \n",
       "no_of_employees   2109.00    3504.00  \n",
       "yr_of_estab       1997.00    2005.00  \n",
       "prevailing_wage  70308.21  107735.51  "
      ]
     },
     "execution_count": 46,
     "metadata": {},
     "output_type": "execute_result"
    }
   ],
   "source": [
    "pd.DataFrame(l,index=num,columns=index)"
   ]
  },
  {
   "cell_type": "code",
   "execution_count": 47,
   "id": "cf1d420b-2a53-45b6-a69e-335b4927da23",
   "metadata": {},
   "outputs": [
    {
     "data": {
      "text/html": [
       "<div>\n",
       "<style scoped>\n",
       "    .dataframe tbody tr th:only-of-type {\n",
       "        vertical-align: middle;\n",
       "    }\n",
       "\n",
       "    .dataframe tbody tr th {\n",
       "        vertical-align: top;\n",
       "    }\n",
       "\n",
       "    .dataframe thead th {\n",
       "        text-align: right;\n",
       "    }\n",
       "</style>\n",
       "<table border=\"1\" class=\"dataframe\">\n",
       "  <thead>\n",
       "    <tr style=\"text-align: right;\">\n",
       "      <th></th>\n",
       "      <th>no_of_employees</th>\n",
       "      <th>yr_of_estab</th>\n",
       "      <th>prevailing_wage</th>\n",
       "    </tr>\n",
       "  </thead>\n",
       "  <tbody>\n",
       "    <tr>\n",
       "      <th>Count</th>\n",
       "      <td>25480.00</td>\n",
       "      <td>25480.00</td>\n",
       "      <td>25480.00</td>\n",
       "    </tr>\n",
       "    <tr>\n",
       "      <th>Min</th>\n",
       "      <td>-26.00</td>\n",
       "      <td>1800.00</td>\n",
       "      <td>2.14</td>\n",
       "    </tr>\n",
       "    <tr>\n",
       "      <th>Max</th>\n",
       "      <td>602069.00</td>\n",
       "      <td>2016.00</td>\n",
       "      <td>319210.27</td>\n",
       "    </tr>\n",
       "    <tr>\n",
       "      <th>Mean</th>\n",
       "      <td>74455.81</td>\n",
       "      <td>74455.81</td>\n",
       "      <td>74455.81</td>\n",
       "    </tr>\n",
       "    <tr>\n",
       "      <th>Median</th>\n",
       "      <td>70308.21</td>\n",
       "      <td>70308.21</td>\n",
       "      <td>70308.21</td>\n",
       "    </tr>\n",
       "    <tr>\n",
       "      <th>25p</th>\n",
       "      <td>1022.00</td>\n",
       "      <td>1976.00</td>\n",
       "      <td>34015.48</td>\n",
       "    </tr>\n",
       "    <tr>\n",
       "      <th>50p</th>\n",
       "      <td>2109.00</td>\n",
       "      <td>1997.00</td>\n",
       "      <td>70308.21</td>\n",
       "    </tr>\n",
       "    <tr>\n",
       "      <th>75p</th>\n",
       "      <td>3504.00</td>\n",
       "      <td>2005.00</td>\n",
       "      <td>107735.51</td>\n",
       "    </tr>\n",
       "  </tbody>\n",
       "</table>\n",
       "</div>"
      ],
      "text/plain": [
       "        no_of_employees  yr_of_estab  prevailing_wage\n",
       "Count          25480.00     25480.00         25480.00\n",
       "Min              -26.00      1800.00             2.14\n",
       "Max           602069.00      2016.00        319210.27\n",
       "Mean           74455.81     74455.81         74455.81\n",
       "Median         70308.21     70308.21         70308.21\n",
       "25p             1022.00      1976.00         34015.48\n",
       "50p             2109.00      1997.00         70308.21\n",
       "75p             3504.00      2005.00        107735.51"
      ]
     },
     "execution_count": 47,
     "metadata": {},
     "output_type": "execute_result"
    }
   ],
   "source": [
    "pd.DataFrame(l,index=num,columns=index).T"
   ]
  },
  {
   "cell_type": "markdown",
   "id": "d4f5973a-b4ee-40c2-b063-c7205f8e9ace",
   "metadata": {},
   "source": [
    "**Method**"
   ]
  },
  {
   "cell_type": "code",
   "execution_count": 49,
   "id": "a88cc4a2-57c9-45a8-a0fd-417eda4072af",
   "metadata": {},
   "outputs": [
    {
     "data": {
      "text/html": [
       "<div>\n",
       "<style scoped>\n",
       "    .dataframe tbody tr th:only-of-type {\n",
       "        vertical-align: middle;\n",
       "    }\n",
       "\n",
       "    .dataframe tbody tr th {\n",
       "        vertical-align: top;\n",
       "    }\n",
       "\n",
       "    .dataframe thead th {\n",
       "        text-align: right;\n",
       "    }\n",
       "</style>\n",
       "<table border=\"1\" class=\"dataframe\">\n",
       "  <thead>\n",
       "    <tr style=\"text-align: right;\">\n",
       "      <th></th>\n",
       "      <th>no_of_employees</th>\n",
       "      <th>yr_of_estab</th>\n",
       "      <th>prevailing_wage</th>\n",
       "    </tr>\n",
       "  </thead>\n",
       "  <tbody>\n",
       "    <tr>\n",
       "      <th>count</th>\n",
       "      <td>25480.000000</td>\n",
       "      <td>25480.000000</td>\n",
       "      <td>25480.000000</td>\n",
       "    </tr>\n",
       "    <tr>\n",
       "      <th>mean</th>\n",
       "      <td>5667.043210</td>\n",
       "      <td>1979.409929</td>\n",
       "      <td>74455.814592</td>\n",
       "    </tr>\n",
       "    <tr>\n",
       "      <th>std</th>\n",
       "      <td>22877.928848</td>\n",
       "      <td>42.366929</td>\n",
       "      <td>52815.942327</td>\n",
       "    </tr>\n",
       "    <tr>\n",
       "      <th>min</th>\n",
       "      <td>-26.000000</td>\n",
       "      <td>1800.000000</td>\n",
       "      <td>2.136700</td>\n",
       "    </tr>\n",
       "    <tr>\n",
       "      <th>25%</th>\n",
       "      <td>1022.000000</td>\n",
       "      <td>1976.000000</td>\n",
       "      <td>34015.480000</td>\n",
       "    </tr>\n",
       "    <tr>\n",
       "      <th>50%</th>\n",
       "      <td>2109.000000</td>\n",
       "      <td>1997.000000</td>\n",
       "      <td>70308.210000</td>\n",
       "    </tr>\n",
       "    <tr>\n",
       "      <th>75%</th>\n",
       "      <td>3504.000000</td>\n",
       "      <td>2005.000000</td>\n",
       "      <td>107735.512500</td>\n",
       "    </tr>\n",
       "    <tr>\n",
       "      <th>max</th>\n",
       "      <td>602069.000000</td>\n",
       "      <td>2016.000000</td>\n",
       "      <td>319210.270000</td>\n",
       "    </tr>\n",
       "  </tbody>\n",
       "</table>\n",
       "</div>"
      ],
      "text/plain": [
       "       no_of_employees   yr_of_estab  prevailing_wage\n",
       "count     25480.000000  25480.000000     25480.000000\n",
       "mean       5667.043210   1979.409929     74455.814592\n",
       "std       22877.928848     42.366929     52815.942327\n",
       "min         -26.000000   1800.000000         2.136700\n",
       "25%        1022.000000   1976.000000     34015.480000\n",
       "50%        2109.000000   1997.000000     70308.210000\n",
       "75%        3504.000000   2005.000000    107735.512500\n",
       "max      602069.000000   2016.000000    319210.270000"
      ]
     },
     "execution_count": 49,
     "metadata": {},
     "output_type": "execute_result"
    }
   ],
   "source": [
    "visa_df.describe()"
   ]
  },
  {
   "cell_type": "markdown",
   "id": "11fcb4e5-f292-4eca-b004-1a3362a5bedb",
   "metadata": {},
   "source": [
    "**Histogram**"
   ]
  },
  {
   "cell_type": "code",
   "execution_count": 93,
   "id": "215a47e7-0b2f-479d-8090-ed00a10ce2c8",
   "metadata": {},
   "outputs": [],
   "source": [
    "wage_data=visa_df['prevailing_wage']"
   ]
  },
  {
   "cell_type": "code",
   "execution_count": 95,
   "id": "4ac9b9c3-ffa2-4293-a38f-e9fb0d0acd82",
   "metadata": {},
   "outputs": [
    {
     "data": {
      "text/plain": [
       "74455.81459209183"
      ]
     },
     "execution_count": 95,
     "metadata": {},
     "output_type": "execute_result"
    }
   ],
   "source": [
    "wage_data.mean()"
   ]
  },
  {
   "cell_type": "code",
   "execution_count": 97,
   "id": "b3256c41-a495-471a-b689-3a6a39c9e445",
   "metadata": {},
   "outputs": [
    {
     "data": {
      "text/plain": [
       "70308.20999999999"
      ]
     },
     "execution_count": 97,
     "metadata": {},
     "output_type": "execute_result"
    }
   ],
   "source": [
    "wage_data.median()"
   ]
  },
  {
   "cell_type": "code",
   "execution_count": 99,
   "id": "f60947f7-d313-4014-a94b-fbbe5cd31eb2",
   "metadata": {},
   "outputs": [
    {
     "data": {
      "text/plain": [
       "False"
      ]
     },
     "execution_count": 99,
     "metadata": {},
     "output_type": "execute_result"
    }
   ],
   "source": [
    "wage_data.mean()==wage_data.median()"
   ]
  },
  {
   "cell_type": "markdown",
   "id": "b9bcd70d-6184-44fb-b065-bfdf79b2ea75",
   "metadata": {},
   "source": [
    "***Empirical Rule***"
   ]
  },
  {
   "cell_type": "markdown",
   "id": "26a1328e-5b41-4558-92af-cdbb6019fb54",
   "metadata": {},
   "source": [
    "<img src=\"https://builtin.com/sites/www.builtin.com/files/styles/ckeditor_optimize/public/inline-images/1_empirical-rule.jpg\" jsaction=\"\" class=\"sFlh5c FyHeAf iPVvYb\" style=\"max-width: 810px; height: 152px; margin: 0px; width: 304px;\" alt=\"Empirical Rule (68-95-99.7) Explained | Built In\" jsname=\"kn3ccd\">"
   ]
  },
  {
   "cell_type": "code",
   "execution_count": null,
   "id": "4b612b8c-6830-42a8-8e63-b90a94df9596",
   "metadata": {},
   "outputs": [],
   "source": [
    "# u-1*sigma to u+1*sigma the data coverage 68%\n"
   ]
  },
  {
   "cell_type": "markdown",
   "id": "b0dee52c-0ea5-4fd4-adb7-1b3c48e4475d",
   "metadata": {},
   "source": [
    "**step1: Calculate wagemean =u**"
   ]
  },
  {
   "cell_type": "code",
   "execution_count": 112,
   "id": "c1020903-07c3-4ab0-bf91-a1b2bd369d40",
   "metadata": {},
   "outputs": [
    {
     "data": {
      "text/plain": [
       "74455.81459209183"
      ]
     },
     "execution_count": 112,
     "metadata": {},
     "output_type": "execute_result"
    }
   ],
   "source": [
    "wage_mean=wage_data.mean()\n",
    "wage_mean"
   ]
  },
  {
   "cell_type": "markdown",
   "id": "3e3729ff-d3b1-4c6b-81ca-e342b00f3bea",
   "metadata": {},
   "source": [
    "**step2: Calculate std of wage=sigma**"
   ]
  },
  {
   "cell_type": "code",
   "execution_count": 114,
   "id": "28222696-932c-456b-a420-be0552fd30ec",
   "metadata": {},
   "outputs": [
    {
     "data": {
      "text/plain": [
       "52815.94232687357"
      ]
     },
     "execution_count": 114,
     "metadata": {},
     "output_type": "execute_result"
    }
   ],
   "source": [
    "wage_std=wage_data.std()\n",
    "wage_std"
   ]
  },
  {
   "cell_type": "markdown",
   "id": "1bc50cca-2d9e-4612-9bad-03d562ea3839",
   "metadata": {},
   "source": [
    "**step3:lb=u-1*sigma**"
   ]
  },
  {
   "cell_type": "code",
   "execution_count": 116,
   "id": "fd3122e8-8b43-4ffb-9743-edf6187075eb",
   "metadata": {},
   "outputs": [
    {
     "data": {
      "text/plain": [
       "21639.872265218262"
      ]
     },
     "execution_count": 116,
     "metadata": {},
     "output_type": "execute_result"
    }
   ],
   "source": [
    "lb=wage_mean-1*wage_std\n",
    "lb"
   ]
  },
  {
   "cell_type": "markdown",
   "id": "745c204d-af98-4882-8f2b-d9c72f3f2858",
   "metadata": {},
   "source": [
    "**step4:ub=u+1*sigma**"
   ]
  },
  {
   "cell_type": "code",
   "execution_count": 122,
   "id": "f94a1a30-d203-4f4e-8141-0da5931488cd",
   "metadata": {},
   "outputs": [
    {
     "data": {
      "text/plain": [
       "127271.7569189654"
      ]
     },
     "execution_count": 122,
     "metadata": {},
     "output_type": "execute_result"
    }
   ],
   "source": [
    "ub=wage_mean+1*wage_std\n",
    "ub"
   ]
  },
  {
   "cell_type": "markdown",
   "id": "b2f66340-75b8-4dd0-9f7d-23c6978ca1f9",
   "metadata": {},
   "source": [
    "**step5:con1=wage_data>lb**"
   ]
  },
  {
   "cell_type": "code",
   "execution_count": 124,
   "id": "0be8671c-5c60-4123-a95b-db34dd754377",
   "metadata": {},
   "outputs": [
    {
     "data": {
      "text/plain": [
       "0        False\n",
       "1         True\n",
       "2         True\n",
       "3         True\n",
       "4         True\n",
       "         ...  \n",
       "25475     True\n",
       "25476     True\n",
       "25477     True\n",
       "25478     True\n",
       "25479     True\n",
       "Name: prevailing_wage, Length: 25480, dtype: bool"
      ]
     },
     "execution_count": 124,
     "metadata": {},
     "output_type": "execute_result"
    }
   ],
   "source": [
    "con1=wage_data>lb\n",
    "con1"
   ]
  },
  {
   "cell_type": "markdown",
   "id": "2bb795f4-e349-4d59-bf11-6c61138471fc",
   "metadata": {},
   "source": [
    "**step6:con2=wage_data<ub**"
   ]
  },
  {
   "cell_type": "code",
   "execution_count": 126,
   "id": "6f825b8c-0a94-43d8-8f7c-560321ccd221",
   "metadata": {},
   "outputs": [
    {
     "data": {
      "text/plain": [
       "0         True\n",
       "1         True\n",
       "2         True\n",
       "3         True\n",
       "4        False\n",
       "         ...  \n",
       "25475     True\n",
       "25476    False\n",
       "25477    False\n",
       "25478     True\n",
       "25479     True\n",
       "Name: prevailing_wage, Length: 25480, dtype: bool"
      ]
     },
     "execution_count": 126,
     "metadata": {},
     "output_type": "execute_result"
    }
   ],
   "source": [
    "con2=wage_data<ub\n",
    "con2"
   ]
  },
  {
   "cell_type": "markdown",
   "id": "d2f1769e-e257-4684-9ec5-81c6e1b80c3c",
   "metadata": {},
   "source": [
    "**step7:con=con1 and con2**"
   ]
  },
  {
   "cell_type": "code",
   "execution_count": 134,
   "id": "f3b80610-a6bc-49a0-ae20-3009cca4df2a",
   "metadata": {},
   "outputs": [
    {
     "data": {
      "text/plain": [
       "0        False\n",
       "1         True\n",
       "2         True\n",
       "3         True\n",
       "4        False\n",
       "         ...  \n",
       "25475     True\n",
       "25476    False\n",
       "25477    False\n",
       "25478     True\n",
       "25479     True\n",
       "Name: prevailing_wage, Length: 25480, dtype: bool"
      ]
     },
     "execution_count": 134,
     "metadata": {},
     "output_type": "execute_result"
    }
   ],
   "source": [
    "con=con1 & con2\n",
    "con"
   ]
  },
  {
   "cell_type": "markdown",
   "id": "4cfd6b04-41f0-4ac9-821e-5431e1096322",
   "metadata": {},
   "source": [
    "**step8:len(visa_df[con])==68*len(visa_df)/100**"
   ]
  },
  {
   "cell_type": "code",
   "execution_count": 136,
   "id": "1e5fd55a-f32f-4708-b929-36d62fccc76a",
   "metadata": {},
   "outputs": [
    {
     "data": {
      "text/plain": [
       "False"
      ]
     },
     "execution_count": 136,
     "metadata": {},
     "output_type": "execute_result"
    }
   ],
   "source": [
    "len(visa_df[con])==68*len(visa_df)/100"
   ]
  },
  {
   "cell_type": "markdown",
   "id": "716a0618-4a29-4f5d-89bb-c31b7cc5d0a8",
   "metadata": {},
   "source": [
    "**Function**"
   ]
  },
  {
   "cell_type": "code",
   "execution_count": 138,
   "id": "b7f630a7-9fb8-452b-8f28-a1ae3580b38b",
   "metadata": {},
   "outputs": [
    {
     "name": "stdout",
     "output_type": "stream",
     "text": [
      "False\n"
     ]
    }
   ],
   "source": [
    "def Emperical_rule(k,n):\n",
    "    wage_mean=wage_data.mean()\n",
    "    wage_std=wage_data.std()\n",
    "    lb=wage_mean-k*wage_std\n",
    "    ub=wage_mean+k*wage_std\n",
    "    con1=wage_data>lb\n",
    "    con2=wage_data<ub\n",
    "    con=con1&con2\n",
    "    print(len(visa_df[con])==n*len(visa_df)/100)\n",
    "Emperical_rule(3,99.7)"
   ]
  },
  {
   "cell_type": "code",
   "execution_count": 142,
   "id": "c802e3df-7493-49ee-891c-51a889c18029",
   "metadata": {},
   "outputs": [
    {
     "data": {
      "text/plain": [
       "(array([6038., 5504., 5681., 4551., 2334.,  624.,  373.,  240.,  114.,\n",
       "          21.]),\n",
       " array([2.13670000e+00, 3.19229500e+04, 6.38437634e+04, 9.57645767e+04,\n",
       "        1.27685390e+05, 1.59606203e+05, 1.91527017e+05, 2.23447830e+05,\n",
       "        2.55368643e+05, 2.87289457e+05, 3.19210270e+05]),\n",
       " <BarContainer object of 10 artists>)"
      ]
     },
     "execution_count": 142,
     "metadata": {},
     "output_type": "execute_result"
    },
    {
     "data": {
      "image/png": "[encoded data removed]",
      "text/plain": [
       "<Figure size 640x480 with 1 Axes>"
      ]
     },
     "metadata": {},
     "output_type": "display_data"
    }
   ],
   "source": [
    "plt.hist(wage_data)\n",
    "#x-axiz: class interval\n",
    "#y-axis: class frequency"
   ]
  },
  {
   "cell_type": "code",
   "execution_count": 158,
   "id": "623fd75f-4f50-46e3-b780-313e42daeb6c",
   "metadata": {},
   "outputs": [
    {
     "data": {
      "image/png": "[encoded data removed]",
      "text/plain": [
       "<Figure size 640x480 with 1 Axes>"
      ]
     },
     "metadata": {},
     "output_type": "display_data"
    }
   ],
   "source": [
    "freq,interval,bins=plt.hist(wage_data,bins=40)"
   ]
  },
  {
   "cell_type": "code",
   "execution_count": null,
   "id": "8f81d49b-d1ec-4d48-81b0-d7f589b49c5f",
   "metadata": {},
   "outputs": [],
   "source": [
    "lb=2.13670000e+00\n",
    "ub=7.98234003e+03"
   ]
  },
  {
   "cell_type": "code",
   "execution_count": 178,
   "id": "38db7cbd-8ecd-49e5-ad82-af242937f77a",
   "metadata": {},
   "outputs": [
    {
     "data": {
      "text/plain": [
       "0        True\n",
       "1        True\n",
       "2        True\n",
       "3        True\n",
       "4        True\n",
       "         ... \n",
       "25475    True\n",
       "25476    True\n",
       "25477    True\n",
       "25478    True\n",
       "25479    True\n",
       "Name: prevailing_wage, Length: 25480, dtype: bool"
      ]
     },
     "execution_count": 178,
     "metadata": {},
     "output_type": "execute_result"
    }
   ],
   "source": [
    "con1=wage_data>=2.13670000e+00\n",
    "con1"
   ]
  },
  {
   "cell_type": "code",
   "execution_count": 170,
   "id": "4df9879f-b2b7-42a2-a616-b12bf17f4a2b",
   "metadata": {},
   "outputs": [
    {
     "data": {
      "text/plain": [
       "0         True\n",
       "1        False\n",
       "2        False\n",
       "3        False\n",
       "4        False\n",
       "         ...  \n",
       "25475    False\n",
       "25476    False\n",
       "25477    False\n",
       "25478    False\n",
       "25479    False\n",
       "Name: prevailing_wage, Length: 25480, dtype: bool"
      ]
     },
     "execution_count": 170,
     "metadata": {},
     "output_type": "execute_result"
    }
   ],
   "source": [
    "con2=wage_data<7.98234003e+03\n",
    "con2"
   ]
  },
  {
   "cell_type": "code",
   "execution_count": 180,
   "id": "f661d7cf-5738-42b3-a9ab-b0e2325a8fa3",
   "metadata": {},
   "outputs": [
    {
     "data": {
      "text/plain": [
       "0         True\n",
       "1        False\n",
       "2        False\n",
       "3        False\n",
       "4        False\n",
       "         ...  \n",
       "25475    False\n",
       "25476    False\n",
       "25477    False\n",
       "25478    False\n",
       "25479    False\n",
       "Name: prevailing_wage, Length: 25480, dtype: bool"
      ]
     },
     "execution_count": 180,
     "metadata": {},
     "output_type": "execute_result"
    }
   ],
   "source": [
    "con=con1&con2\n",
    "con"
   ]
  },
  {
   "cell_type": "code",
   "execution_count": 182,
   "id": "5de25946-246f-42e5-9df7-e1d3e4d15c65",
   "metadata": {},
   "outputs": [
    {
     "data": {
      "text/html": [
       "<div>\n",
       "<style scoped>\n",
       "    .dataframe tbody tr th:only-of-type {\n",
       "        vertical-align: middle;\n",
       "    }\n",
       "\n",
       "    .dataframe tbody tr th {\n",
       "        vertical-align: top;\n",
       "    }\n",
       "\n",
       "    .dataframe thead th {\n",
       "        text-align: right;\n",
       "    }\n",
       "</style>\n",
       "<table border=\"1\" class=\"dataframe\">\n",
       "  <thead>\n",
       "    <tr style=\"text-align: right;\">\n",
       "      <th></th>\n",
       "      <th>case_id</th>\n",
       "      <th>continent</th>\n",
       "      <th>education_of_employee</th>\n",
       "      <th>has_job_experience</th>\n",
       "      <th>requires_job_training</th>\n",
       "      <th>no_of_employees</th>\n",
       "      <th>yr_of_estab</th>\n",
       "      <th>region_of_employment</th>\n",
       "      <th>prevailing_wage</th>\n",
       "      <th>unit_of_wage</th>\n",
       "      <th>full_time_position</th>\n",
       "      <th>case_status</th>\n",
       "    </tr>\n",
       "  </thead>\n",
       "  <tbody>\n",
       "    <tr>\n",
       "      <th>0</th>\n",
       "      <td>EZYV01</td>\n",
       "      <td>Asia</td>\n",
       "      <td>High School</td>\n",
       "      <td>N</td>\n",
       "      <td>N</td>\n",
       "      <td>14513</td>\n",
       "      <td>2007</td>\n",
       "      <td>West</td>\n",
       "      <td>592.2029</td>\n",
       "      <td>Hour</td>\n",
       "      <td>Y</td>\n",
       "      <td>Denied</td>\n",
       "    </tr>\n",
       "    <tr>\n",
       "      <th>7</th>\n",
       "      <td>EZYV08</td>\n",
       "      <td>North America</td>\n",
       "      <td>Bachelor's</td>\n",
       "      <td>Y</td>\n",
       "      <td>N</td>\n",
       "      <td>3035</td>\n",
       "      <td>1924</td>\n",
       "      <td>West</td>\n",
       "      <td>418.2298</td>\n",
       "      <td>Hour</td>\n",
       "      <td>Y</td>\n",
       "      <td>Denied</td>\n",
       "    </tr>\n",
       "    <tr>\n",
       "      <th>16</th>\n",
       "      <td>EZYV17</td>\n",
       "      <td>Europe</td>\n",
       "      <td>Master's</td>\n",
       "      <td>Y</td>\n",
       "      <td>N</td>\n",
       "      <td>76638</td>\n",
       "      <td>1991</td>\n",
       "      <td>Midwest</td>\n",
       "      <td>3706.7900</td>\n",
       "      <td>Year</td>\n",
       "      <td>Y</td>\n",
       "      <td>Certified</td>\n",
       "    </tr>\n",
       "    <tr>\n",
       "      <th>36</th>\n",
       "      <td>EZYV37</td>\n",
       "      <td>Europe</td>\n",
       "      <td>High School</td>\n",
       "      <td>Y</td>\n",
       "      <td>N</td>\n",
       "      <td>2520</td>\n",
       "      <td>1981</td>\n",
       "      <td>West</td>\n",
       "      <td>2490.1200</td>\n",
       "      <td>Year</td>\n",
       "      <td>Y</td>\n",
       "      <td>Denied</td>\n",
       "    </tr>\n",
       "    <tr>\n",
       "      <th>54</th>\n",
       "      <td>EZYV55</td>\n",
       "      <td>Asia</td>\n",
       "      <td>Master's</td>\n",
       "      <td>Y</td>\n",
       "      <td>N</td>\n",
       "      <td>11733</td>\n",
       "      <td>1995</td>\n",
       "      <td>Northeast</td>\n",
       "      <td>230.8072</td>\n",
       "      <td>Hour</td>\n",
       "      <td>Y</td>\n",
       "      <td>Certified</td>\n",
       "    </tr>\n",
       "    <tr>\n",
       "      <th>...</th>\n",
       "      <td>...</td>\n",
       "      <td>...</td>\n",
       "      <td>...</td>\n",
       "      <td>...</td>\n",
       "      <td>...</td>\n",
       "      <td>...</td>\n",
       "      <td>...</td>\n",
       "      <td>...</td>\n",
       "      <td>...</td>\n",
       "      <td>...</td>\n",
       "      <td>...</td>\n",
       "      <td>...</td>\n",
       "    </tr>\n",
       "    <tr>\n",
       "      <th>25450</th>\n",
       "      <td>EZYV25451</td>\n",
       "      <td>Asia</td>\n",
       "      <td>Bachelor's</td>\n",
       "      <td>N</td>\n",
       "      <td>N</td>\n",
       "      <td>3312</td>\n",
       "      <td>2009</td>\n",
       "      <td>Northeast</td>\n",
       "      <td>682.1048</td>\n",
       "      <td>Hour</td>\n",
       "      <td>Y</td>\n",
       "      <td>Denied</td>\n",
       "    </tr>\n",
       "    <tr>\n",
       "      <th>25461</th>\n",
       "      <td>EZYV25462</td>\n",
       "      <td>Asia</td>\n",
       "      <td>Master's</td>\n",
       "      <td>Y</td>\n",
       "      <td>N</td>\n",
       "      <td>2861</td>\n",
       "      <td>2004</td>\n",
       "      <td>West</td>\n",
       "      <td>54.9196</td>\n",
       "      <td>Hour</td>\n",
       "      <td>Y</td>\n",
       "      <td>Denied</td>\n",
       "    </tr>\n",
       "    <tr>\n",
       "      <th>25465</th>\n",
       "      <td>EZYV25466</td>\n",
       "      <td>North America</td>\n",
       "      <td>High School</td>\n",
       "      <td>N</td>\n",
       "      <td>N</td>\n",
       "      <td>2577</td>\n",
       "      <td>1995</td>\n",
       "      <td>South</td>\n",
       "      <td>481.2238</td>\n",
       "      <td>Hour</td>\n",
       "      <td>Y</td>\n",
       "      <td>Certified</td>\n",
       "    </tr>\n",
       "    <tr>\n",
       "      <th>25466</th>\n",
       "      <td>EZYV25467</td>\n",
       "      <td>Europe</td>\n",
       "      <td>Bachelor's</td>\n",
       "      <td>Y</td>\n",
       "      <td>N</td>\n",
       "      <td>1938</td>\n",
       "      <td>2005</td>\n",
       "      <td>West</td>\n",
       "      <td>6973.4000</td>\n",
       "      <td>Year</td>\n",
       "      <td>Y</td>\n",
       "      <td>Denied</td>\n",
       "    </tr>\n",
       "    <tr>\n",
       "      <th>25470</th>\n",
       "      <td>EZYV25471</td>\n",
       "      <td>North America</td>\n",
       "      <td>Master's</td>\n",
       "      <td>Y</td>\n",
       "      <td>N</td>\n",
       "      <td>2272</td>\n",
       "      <td>1970</td>\n",
       "      <td>Northeast</td>\n",
       "      <td>516.4101</td>\n",
       "      <td>Hour</td>\n",
       "      <td>Y</td>\n",
       "      <td>Certified</td>\n",
       "    </tr>\n",
       "  </tbody>\n",
       "</table>\n",
       "<p>2992 rows × 12 columns</p>\n",
       "</div>"
      ],
      "text/plain": [
       "         case_id      continent education_of_employee has_job_experience  \\\n",
       "0         EZYV01           Asia           High School                  N   \n",
       "7         EZYV08  North America            Bachelor's                  Y   \n",
       "16        EZYV17         Europe              Master's                  Y   \n",
       "36        EZYV37         Europe           High School                  Y   \n",
       "54        EZYV55           Asia              Master's                  Y   \n",
       "...          ...            ...                   ...                ...   \n",
       "25450  EZYV25451           Asia            Bachelor's                  N   \n",
       "25461  EZYV25462           Asia              Master's                  Y   \n",
       "25465  EZYV25466  North America           High School                  N   \n",
       "25466  EZYV25467         Europe            Bachelor's                  Y   \n",
       "25470  EZYV25471  North America              Master's                  Y   \n",
       "\n",
       "      requires_job_training  no_of_employees  yr_of_estab  \\\n",
       "0                         N            14513         2007   \n",
       "7                         N             3035         1924   \n",
       "16                        N            76638         1991   \n",
       "36                        N             2520         1981   \n",
       "54                        N            11733         1995   \n",
       "...                     ...              ...          ...   \n",
       "25450                     N             3312         2009   \n",
       "25461                     N             2861         2004   \n",
       "25465                     N             2577         1995   \n",
       "25466                     N             1938         2005   \n",
       "25470                     N             2272         1970   \n",
       "\n",
       "      region_of_employment  prevailing_wage unit_of_wage full_time_position  \\\n",
       "0                     West         592.2029         Hour                  Y   \n",
       "7                     West         418.2298         Hour                  Y   \n",
       "16                 Midwest        3706.7900         Year                  Y   \n",
       "36                    West        2490.1200         Year                  Y   \n",
       "54               Northeast         230.8072         Hour                  Y   \n",
       "...                    ...              ...          ...                ...   \n",
       "25450            Northeast         682.1048         Hour                  Y   \n",
       "25461                 West          54.9196         Hour                  Y   \n",
       "25465                South         481.2238         Hour                  Y   \n",
       "25466                 West        6973.4000         Year                  Y   \n",
       "25470            Northeast         516.4101         Hour                  Y   \n",
       "\n",
       "      case_status  \n",
       "0          Denied  \n",
       "7          Denied  \n",
       "16      Certified  \n",
       "36         Denied  \n",
       "54      Certified  \n",
       "...           ...  \n",
       "25450      Denied  \n",
       "25461      Denied  \n",
       "25465   Certified  \n",
       "25466      Denied  \n",
       "25470   Certified  \n",
       "\n",
       "[2992 rows x 12 columns]"
      ]
     },
     "execution_count": 182,
     "metadata": {},
     "output_type": "execute_result"
    }
   ],
   "source": [
    "visa_df[con]"
   ]
  },
  {
   "cell_type": "code",
   "execution_count": 184,
   "id": "d91d9edf-9b28-42be-986f-de1a46499af3",
   "metadata": {},
   "outputs": [
    {
     "data": {
      "text/plain": [
       "2992"
      ]
     },
     "execution_count": 184,
     "metadata": {},
     "output_type": "execute_result"
    }
   ],
   "source": [
    "len(visa_df[con])"
   ]
  },
  {
   "cell_type": "markdown",
   "id": "68859d2b-fe7e-4084-8984-8650e3f7efbe",
   "metadata": {},
   "source": [
    "- Data skewed\n",
    "- Not following Normal distribution\n",
    "- Means outliers are present"
   ]
  },
  {
   "cell_type": "markdown",
   "id": "28c888d0-e652-4a0e-9daa-b2aa91c9bdb4",
   "metadata": {},
   "source": [
    "**Outliers Analysis**"
   ]
  },
  {
   "cell_type": "markdown",
   "id": "feac5697-6fcf-45aa-aed5-ccb544271b9e",
   "metadata": {},
   "source": [
    "$box-plot$"
   ]
  },
  {
   "cell_type": "code",
   "execution_count": 193,
   "id": "b1926f78-7338-48df-a09b-d92c4133a8b8",
   "metadata": {},
   "outputs": [
    {
     "data": {
      "image/png": "[encoded data removed]",
      "text/plain": [
       "<Figure size 640x480 with 1 Axes>"
      ]
     },
     "metadata": {},
     "output_type": "display_data"
    }
   ],
   "source": [
    "plt.boxplot(wage_data,vert=False)\n",
    "plt.show()"
   ]
  },
  {
   "cell_type": "code",
   "execution_count": 197,
   "id": "023940d1-33d9-44e6-9033-d1f76cc967c5",
   "metadata": {},
   "outputs": [
    {
     "data": {
      "image/png": "[encoded data removed]",
      "text/plain": [
       "<Figure size 640x480 with 2 Axes>"
      ]
     },
     "metadata": {},
     "output_type": "display_data"
    }
   ],
   "source": [
    "plt.subplot(2,1,1).hist(wage_data)\n",
    "plt.subplot(2,1,2).boxplot(wage_data,vert=False)\n",
    "plt.show()"
   ]
  },
  {
   "cell_type": "markdown",
   "id": "8e419752-528d-4444-9110-296576936b18",
   "metadata": {},
   "source": [
    "**Outliers Data**"
   ]
  },
  {
   "cell_type": "code",
   "execution_count": null,
   "id": "ba9e5178-0359-41ec-839d-b9767a5a5c27",
   "metadata": {},
   "outputs": [],
   "source": [
    "           Q1-1.5IQR   Q1   median  Q3   Q3+1.5IQR\n",
    "                       |-----:-----|\n",
    "       o      |--------|     :     |--------|    o  o\n",
    "                       |-----:-----|\n",
    "     flier             <----------->            fliers\n",
    "                            IQR"
   ]
  },
  {
   "cell_type": "code",
   "execution_count": null,
   "id": "7a1897ed-f50e-4b40-8ab3-36e043f1470b",
   "metadata": {},
   "outputs": [],
   "source": [
    "q1\n",
    "q3\n",
    "IQR=q3-q1\n",
    "lb=q1-1.5*IQR\n",
    "ub=q3+1.5*IQR\n",
    "con1=wage_data<lb\n",
    "con2=wage_data>ub\n",
    "con=con1|con2\n",
    "outliers_df=visa_df[con]"
   ]
  },
  {
   "cell_type": "code",
   "execution_count": 202,
   "id": "ea1cbd92-59e5-4bab-9d71-caa433a43f23",
   "metadata": {},
   "outputs": [
    {
     "data": {
      "text/plain": [
       "34015.479999999996"
      ]
     },
     "execution_count": 202,
     "metadata": {},
     "output_type": "execute_result"
    }
   ],
   "source": [
    "q1=np.percentile(wage_data,25)\n",
    "q1"
   ]
  },
  {
   "cell_type": "code",
   "execution_count": 204,
   "id": "3777c125-c8ff-4c24-baea-ba4380c2c57f",
   "metadata": {},
   "outputs": [
    {
     "data": {
      "text/plain": [
       "107735.51250000001"
      ]
     },
     "execution_count": 204,
     "metadata": {},
     "output_type": "execute_result"
    }
   ],
   "source": [
    "q3=np.percentile(wage_data,75)\n",
    "q3"
   ]
  },
  {
   "cell_type": "code",
   "execution_count": 208,
   "id": "96bfc041-07f1-47c4-8bc1-654d23be51c2",
   "metadata": {},
   "outputs": [
    {
     "data": {
      "text/plain": [
       "73720.03250000002"
      ]
     },
     "execution_count": 208,
     "metadata": {},
     "output_type": "execute_result"
    }
   ],
   "source": [
    "IQR=q3-q1\n",
    "IQR"
   ]
  },
  {
   "cell_type": "code",
   "execution_count": 210,
   "id": "57ea858a-3c73-4026-910f-3f82487484c2",
   "metadata": {},
   "outputs": [
    {
     "data": {
      "text/plain": [
       "-76564.56875000002"
      ]
     },
     "execution_count": 210,
     "metadata": {},
     "output_type": "execute_result"
    }
   ],
   "source": [
    "lb=q1-1.5*IQR\n",
    "lb"
   ]
  },
  {
   "cell_type": "code",
   "execution_count": 212,
   "id": "25cec67c-60ec-4506-8e01-715c21cdba4b",
   "metadata": {},
   "outputs": [
    {
     "data": {
      "text/plain": [
       "218315.56125000003"
      ]
     },
     "execution_count": 212,
     "metadata": {},
     "output_type": "execute_result"
    }
   ],
   "source": [
    "ub=q3+1.5*IQR\n",
    "ub"
   ]
  },
  {
   "cell_type": "code",
   "execution_count": 214,
   "id": "0a0bcde8-0c38-462c-8e3e-572cfe29ee3f",
   "metadata": {},
   "outputs": [
    {
     "data": {
      "text/plain": [
       "0        False\n",
       "1        False\n",
       "2        False\n",
       "3        False\n",
       "4        False\n",
       "         ...  \n",
       "25475    False\n",
       "25476    False\n",
       "25477    False\n",
       "25478    False\n",
       "25479    False\n",
       "Name: prevailing_wage, Length: 25480, dtype: bool"
      ]
     },
     "execution_count": 214,
     "metadata": {},
     "output_type": "execute_result"
    }
   ],
   "source": [
    "con1=wage_data<lb\n",
    "con1"
   ]
  },
  {
   "cell_type": "code",
   "execution_count": 216,
   "id": "ee187185-cc6f-413e-9788-358f8041bb05",
   "metadata": {},
   "outputs": [
    {
     "data": {
      "text/plain": [
       "0        False\n",
       "1        False\n",
       "2        False\n",
       "3        False\n",
       "4        False\n",
       "         ...  \n",
       "25475    False\n",
       "25476     True\n",
       "25477    False\n",
       "25478    False\n",
       "25479    False\n",
       "Name: prevailing_wage, Length: 25480, dtype: bool"
      ]
     },
     "execution_count": 216,
     "metadata": {},
     "output_type": "execute_result"
    }
   ],
   "source": [
    "con2=wage_data>ub\n",
    "con2"
   ]
  },
  {
   "cell_type": "code",
   "execution_count": 218,
   "id": "4f8ae0c1-52d8-4bc3-8257-22971f41aef0",
   "metadata": {},
   "outputs": [
    {
     "data": {
      "text/plain": [
       "0        False\n",
       "1        False\n",
       "2        False\n",
       "3        False\n",
       "4        False\n",
       "         ...  \n",
       "25475    False\n",
       "25476     True\n",
       "25477    False\n",
       "25478    False\n",
       "25479    False\n",
       "Name: prevailing_wage, Length: 25480, dtype: bool"
      ]
     },
     "execution_count": 218,
     "metadata": {},
     "output_type": "execute_result"
    }
   ],
   "source": [
    "con=con1|con2\n",
    "con"
   ]
  },
  {
   "cell_type": "code",
   "execution_count": 220,
   "id": "a90caedd-4fcf-44cf-978d-a8bb151ec729",
   "metadata": {},
   "outputs": [
    {
     "data": {
      "text/html": [
       "<div>\n",
       "<style scoped>\n",
       "    .dataframe tbody tr th:only-of-type {\n",
       "        vertical-align: middle;\n",
       "    }\n",
       "\n",
       "    .dataframe tbody tr th {\n",
       "        vertical-align: top;\n",
       "    }\n",
       "\n",
       "    .dataframe thead th {\n",
       "        text-align: right;\n",
       "    }\n",
       "</style>\n",
       "<table border=\"1\" class=\"dataframe\">\n",
       "  <thead>\n",
       "    <tr style=\"text-align: right;\">\n",
       "      <th></th>\n",
       "      <th>case_id</th>\n",
       "      <th>continent</th>\n",
       "      <th>education_of_employee</th>\n",
       "      <th>has_job_experience</th>\n",
       "      <th>requires_job_training</th>\n",
       "      <th>no_of_employees</th>\n",
       "      <th>yr_of_estab</th>\n",
       "      <th>region_of_employment</th>\n",
       "      <th>prevailing_wage</th>\n",
       "      <th>unit_of_wage</th>\n",
       "      <th>full_time_position</th>\n",
       "      <th>case_status</th>\n",
       "    </tr>\n",
       "  </thead>\n",
       "  <tbody>\n",
       "    <tr>\n",
       "      <th>14</th>\n",
       "      <td>EZYV15</td>\n",
       "      <td>Asia</td>\n",
       "      <td>Master's</td>\n",
       "      <td>Y</td>\n",
       "      <td>Y</td>\n",
       "      <td>15756</td>\n",
       "      <td>2006</td>\n",
       "      <td>South</td>\n",
       "      <td>220081.73</td>\n",
       "      <td>Year</td>\n",
       "      <td>Y</td>\n",
       "      <td>Certified</td>\n",
       "    </tr>\n",
       "    <tr>\n",
       "      <th>34</th>\n",
       "      <td>EZYV35</td>\n",
       "      <td>Asia</td>\n",
       "      <td>Master's</td>\n",
       "      <td>N</td>\n",
       "      <td>N</td>\n",
       "      <td>1809</td>\n",
       "      <td>2010</td>\n",
       "      <td>South</td>\n",
       "      <td>225569.73</td>\n",
       "      <td>Year</td>\n",
       "      <td>N</td>\n",
       "      <td>Certified</td>\n",
       "    </tr>\n",
       "    <tr>\n",
       "      <th>130</th>\n",
       "      <td>EZYV131</td>\n",
       "      <td>South America</td>\n",
       "      <td>High School</td>\n",
       "      <td>N</td>\n",
       "      <td>N</td>\n",
       "      <td>2554</td>\n",
       "      <td>2005</td>\n",
       "      <td>Midwest</td>\n",
       "      <td>247393.01</td>\n",
       "      <td>Year</td>\n",
       "      <td>Y</td>\n",
       "      <td>Certified</td>\n",
       "    </tr>\n",
       "    <tr>\n",
       "      <th>216</th>\n",
       "      <td>EZYV217</td>\n",
       "      <td>Asia</td>\n",
       "      <td>Master's</td>\n",
       "      <td>Y</td>\n",
       "      <td>N</td>\n",
       "      <td>1515</td>\n",
       "      <td>2001</td>\n",
       "      <td>Midwest</td>\n",
       "      <td>269321.68</td>\n",
       "      <td>Year</td>\n",
       "      <td>N</td>\n",
       "      <td>Certified</td>\n",
       "    </tr>\n",
       "    <tr>\n",
       "      <th>221</th>\n",
       "      <td>EZYV222</td>\n",
       "      <td>North America</td>\n",
       "      <td>Doctorate</td>\n",
       "      <td>Y</td>\n",
       "      <td>Y</td>\n",
       "      <td>2518</td>\n",
       "      <td>2010</td>\n",
       "      <td>South</td>\n",
       "      <td>219529.62</td>\n",
       "      <td>Year</td>\n",
       "      <td>Y</td>\n",
       "      <td>Certified</td>\n",
       "    </tr>\n",
       "    <tr>\n",
       "      <th>...</th>\n",
       "      <td>...</td>\n",
       "      <td>...</td>\n",
       "      <td>...</td>\n",
       "      <td>...</td>\n",
       "      <td>...</td>\n",
       "      <td>...</td>\n",
       "      <td>...</td>\n",
       "      <td>...</td>\n",
       "      <td>...</td>\n",
       "      <td>...</td>\n",
       "      <td>...</td>\n",
       "      <td>...</td>\n",
       "    </tr>\n",
       "    <tr>\n",
       "      <th>25191</th>\n",
       "      <td>EZYV25192</td>\n",
       "      <td>Asia</td>\n",
       "      <td>Master's</td>\n",
       "      <td>N</td>\n",
       "      <td>N</td>\n",
       "      <td>4983</td>\n",
       "      <td>2005</td>\n",
       "      <td>Midwest</td>\n",
       "      <td>280482.51</td>\n",
       "      <td>Year</td>\n",
       "      <td>Y</td>\n",
       "      <td>Denied</td>\n",
       "    </tr>\n",
       "    <tr>\n",
       "      <th>25195</th>\n",
       "      <td>EZYV25196</td>\n",
       "      <td>North America</td>\n",
       "      <td>Master's</td>\n",
       "      <td>Y</td>\n",
       "      <td>N</td>\n",
       "      <td>47</td>\n",
       "      <td>2001</td>\n",
       "      <td>South</td>\n",
       "      <td>234308.77</td>\n",
       "      <td>Year</td>\n",
       "      <td>N</td>\n",
       "      <td>Certified</td>\n",
       "    </tr>\n",
       "    <tr>\n",
       "      <th>25468</th>\n",
       "      <td>EZYV25469</td>\n",
       "      <td>Asia</td>\n",
       "      <td>Bachelor's</td>\n",
       "      <td>N</td>\n",
       "      <td>N</td>\n",
       "      <td>373</td>\n",
       "      <td>2005</td>\n",
       "      <td>Midwest</td>\n",
       "      <td>272715.74</td>\n",
       "      <td>Year</td>\n",
       "      <td>N</td>\n",
       "      <td>Certified</td>\n",
       "    </tr>\n",
       "    <tr>\n",
       "      <th>25469</th>\n",
       "      <td>EZYV25470</td>\n",
       "      <td>North America</td>\n",
       "      <td>Master's</td>\n",
       "      <td>Y</td>\n",
       "      <td>N</td>\n",
       "      <td>2261</td>\n",
       "      <td>1997</td>\n",
       "      <td>Northeast</td>\n",
       "      <td>273772.47</td>\n",
       "      <td>Year</td>\n",
       "      <td>N</td>\n",
       "      <td>Certified</td>\n",
       "    </tr>\n",
       "    <tr>\n",
       "      <th>25476</th>\n",
       "      <td>EZYV25477</td>\n",
       "      <td>Asia</td>\n",
       "      <td>High School</td>\n",
       "      <td>Y</td>\n",
       "      <td>N</td>\n",
       "      <td>3274</td>\n",
       "      <td>2006</td>\n",
       "      <td>Northeast</td>\n",
       "      <td>279174.79</td>\n",
       "      <td>Year</td>\n",
       "      <td>Y</td>\n",
       "      <td>Certified</td>\n",
       "    </tr>\n",
       "  </tbody>\n",
       "</table>\n",
       "<p>427 rows × 12 columns</p>\n",
       "</div>"
      ],
      "text/plain": [
       "         case_id      continent education_of_employee has_job_experience  \\\n",
       "14        EZYV15           Asia              Master's                  Y   \n",
       "34        EZYV35           Asia              Master's                  N   \n",
       "130      EZYV131  South America           High School                  N   \n",
       "216      EZYV217           Asia              Master's                  Y   \n",
       "221      EZYV222  North America             Doctorate                  Y   \n",
       "...          ...            ...                   ...                ...   \n",
       "25191  EZYV25192           Asia              Master's                  N   \n",
       "25195  EZYV25196  North America              Master's                  Y   \n",
       "25468  EZYV25469           Asia            Bachelor's                  N   \n",
       "25469  EZYV25470  North America              Master's                  Y   \n",
       "25476  EZYV25477           Asia           High School                  Y   \n",
       "\n",
       "      requires_job_training  no_of_employees  yr_of_estab  \\\n",
       "14                        Y            15756         2006   \n",
       "34                        N             1809         2010   \n",
       "130                       N             2554         2005   \n",
       "216                       N             1515         2001   \n",
       "221                       Y             2518         2010   \n",
       "...                     ...              ...          ...   \n",
       "25191                     N             4983         2005   \n",
       "25195                     N               47         2001   \n",
       "25468                     N              373         2005   \n",
       "25469                     N             2261         1997   \n",
       "25476                     N             3274         2006   \n",
       "\n",
       "      region_of_employment  prevailing_wage unit_of_wage full_time_position  \\\n",
       "14                   South        220081.73         Year                  Y   \n",
       "34                   South        225569.73         Year                  N   \n",
       "130                Midwest        247393.01         Year                  Y   \n",
       "216                Midwest        269321.68         Year                  N   \n",
       "221                  South        219529.62         Year                  Y   \n",
       "...                    ...              ...          ...                ...   \n",
       "25191              Midwest        280482.51         Year                  Y   \n",
       "25195                South        234308.77         Year                  N   \n",
       "25468              Midwest        272715.74         Year                  N   \n",
       "25469            Northeast        273772.47         Year                  N   \n",
       "25476            Northeast        279174.79         Year                  Y   \n",
       "\n",
       "      case_status  \n",
       "14      Certified  \n",
       "34      Certified  \n",
       "130     Certified  \n",
       "216     Certified  \n",
       "221     Certified  \n",
       "...           ...  \n",
       "25191      Denied  \n",
       "25195   Certified  \n",
       "25468   Certified  \n",
       "25469   Certified  \n",
       "25476   Certified  \n",
       "\n",
       "[427 rows x 12 columns]"
      ]
     },
     "execution_count": 220,
     "metadata": {},
     "output_type": "execute_result"
    }
   ],
   "source": [
    "outliers_df=visa_df[con]\n",
    "outliers_df"
   ]
  },
  {
   "cell_type": "markdown",
   "id": "8a7c722c-be2f-43a2-b441-b10c27c0834d",
   "metadata": {},
   "source": [
    "**Non-outlier_DF**"
   ]
  },
  {
   "cell_type": "code",
   "execution_count": 223,
   "id": "614bd8c4-ce67-4df3-aed6-c71a6fe33e9c",
   "metadata": {},
   "outputs": [
    {
     "data": {
      "text/plain": [
       "0        True\n",
       "1        True\n",
       "2        True\n",
       "3        True\n",
       "4        True\n",
       "         ... \n",
       "25475    True\n",
       "25476    True\n",
       "25477    True\n",
       "25478    True\n",
       "25479    True\n",
       "Name: prevailing_wage, Length: 25480, dtype: bool"
      ]
     },
     "execution_count": 223,
     "metadata": {},
     "output_type": "execute_result"
    }
   ],
   "source": [
    "con1=wage_data>lb\n",
    "con1"
   ]
  },
  {
   "cell_type": "code",
   "execution_count": 225,
   "id": "ce3b3ae4-e4d1-4a65-943e-3a74cd20e1d4",
   "metadata": {},
   "outputs": [
    {
     "data": {
      "text/plain": [
       "0         True\n",
       "1         True\n",
       "2         True\n",
       "3         True\n",
       "4         True\n",
       "         ...  \n",
       "25475     True\n",
       "25476    False\n",
       "25477     True\n",
       "25478     True\n",
       "25479     True\n",
       "Name: prevailing_wage, Length: 25480, dtype: bool"
      ]
     },
     "execution_count": 225,
     "metadata": {},
     "output_type": "execute_result"
    }
   ],
   "source": [
    "con2=wage_data<ub\n",
    "con2"
   ]
  },
  {
   "cell_type": "code",
   "execution_count": 227,
   "id": "e3f3f7a0-e89e-464a-a4b3-847979d628d6",
   "metadata": {},
   "outputs": [
    {
     "data": {
      "text/plain": [
       "0         True\n",
       "1         True\n",
       "2         True\n",
       "3         True\n",
       "4         True\n",
       "         ...  \n",
       "25475     True\n",
       "25476    False\n",
       "25477     True\n",
       "25478     True\n",
       "25479     True\n",
       "Name: prevailing_wage, Length: 25480, dtype: bool"
      ]
     },
     "execution_count": 227,
     "metadata": {},
     "output_type": "execute_result"
    }
   ],
   "source": [
    "con=con1&con2\n",
    "con"
   ]
  },
  {
   "cell_type": "code",
   "execution_count": 231,
   "id": "e236defc-b153-41ef-9d8b-4f391f679fd9",
   "metadata": {},
   "outputs": [
    {
     "data": {
      "text/html": [
       "<div>\n",
       "<style scoped>\n",
       "    .dataframe tbody tr th:only-of-type {\n",
       "        vertical-align: middle;\n",
       "    }\n",
       "\n",
       "    .dataframe tbody tr th {\n",
       "        vertical-align: top;\n",
       "    }\n",
       "\n",
       "    .dataframe thead th {\n",
       "        text-align: right;\n",
       "    }\n",
       "</style>\n",
       "<table border=\"1\" class=\"dataframe\">\n",
       "  <thead>\n",
       "    <tr style=\"text-align: right;\">\n",
       "      <th></th>\n",
       "      <th>case_id</th>\n",
       "      <th>continent</th>\n",
       "      <th>education_of_employee</th>\n",
       "      <th>has_job_experience</th>\n",
       "      <th>requires_job_training</th>\n",
       "      <th>no_of_employees</th>\n",
       "      <th>yr_of_estab</th>\n",
       "      <th>region_of_employment</th>\n",
       "      <th>prevailing_wage</th>\n",
       "      <th>unit_of_wage</th>\n",
       "      <th>full_time_position</th>\n",
       "      <th>case_status</th>\n",
       "    </tr>\n",
       "  </thead>\n",
       "  <tbody>\n",
       "    <tr>\n",
       "      <th>0</th>\n",
       "      <td>EZYV01</td>\n",
       "      <td>Asia</td>\n",
       "      <td>High School</td>\n",
       "      <td>N</td>\n",
       "      <td>N</td>\n",
       "      <td>14513</td>\n",
       "      <td>2007</td>\n",
       "      <td>West</td>\n",
       "      <td>592.2029</td>\n",
       "      <td>Hour</td>\n",
       "      <td>Y</td>\n",
       "      <td>Denied</td>\n",
       "    </tr>\n",
       "    <tr>\n",
       "      <th>1</th>\n",
       "      <td>EZYV02</td>\n",
       "      <td>Asia</td>\n",
       "      <td>Master's</td>\n",
       "      <td>Y</td>\n",
       "      <td>N</td>\n",
       "      <td>2412</td>\n",
       "      <td>2002</td>\n",
       "      <td>Northeast</td>\n",
       "      <td>83425.6500</td>\n",
       "      <td>Year</td>\n",
       "      <td>Y</td>\n",
       "      <td>Certified</td>\n",
       "    </tr>\n",
       "    <tr>\n",
       "      <th>2</th>\n",
       "      <td>EZYV03</td>\n",
       "      <td>Asia</td>\n",
       "      <td>Bachelor's</td>\n",
       "      <td>N</td>\n",
       "      <td>Y</td>\n",
       "      <td>44444</td>\n",
       "      <td>2008</td>\n",
       "      <td>West</td>\n",
       "      <td>122996.8600</td>\n",
       "      <td>Year</td>\n",
       "      <td>Y</td>\n",
       "      <td>Denied</td>\n",
       "    </tr>\n",
       "    <tr>\n",
       "      <th>3</th>\n",
       "      <td>EZYV04</td>\n",
       "      <td>Asia</td>\n",
       "      <td>Bachelor's</td>\n",
       "      <td>N</td>\n",
       "      <td>N</td>\n",
       "      <td>98</td>\n",
       "      <td>1897</td>\n",
       "      <td>West</td>\n",
       "      <td>83434.0300</td>\n",
       "      <td>Year</td>\n",
       "      <td>Y</td>\n",
       "      <td>Denied</td>\n",
       "    </tr>\n",
       "    <tr>\n",
       "      <th>4</th>\n",
       "      <td>EZYV05</td>\n",
       "      <td>Africa</td>\n",
       "      <td>Master's</td>\n",
       "      <td>Y</td>\n",
       "      <td>N</td>\n",
       "      <td>1082</td>\n",
       "      <td>2005</td>\n",
       "      <td>South</td>\n",
       "      <td>149907.3900</td>\n",
       "      <td>Year</td>\n",
       "      <td>Y</td>\n",
       "      <td>Certified</td>\n",
       "    </tr>\n",
       "    <tr>\n",
       "      <th>...</th>\n",
       "      <td>...</td>\n",
       "      <td>...</td>\n",
       "      <td>...</td>\n",
       "      <td>...</td>\n",
       "      <td>...</td>\n",
       "      <td>...</td>\n",
       "      <td>...</td>\n",
       "      <td>...</td>\n",
       "      <td>...</td>\n",
       "      <td>...</td>\n",
       "      <td>...</td>\n",
       "      <td>...</td>\n",
       "    </tr>\n",
       "    <tr>\n",
       "      <th>25474</th>\n",
       "      <td>EZYV25475</td>\n",
       "      <td>Africa</td>\n",
       "      <td>Doctorate</td>\n",
       "      <td>N</td>\n",
       "      <td>N</td>\n",
       "      <td>2594</td>\n",
       "      <td>1979</td>\n",
       "      <td>Northeast</td>\n",
       "      <td>51104.7800</td>\n",
       "      <td>Year</td>\n",
       "      <td>Y</td>\n",
       "      <td>Certified</td>\n",
       "    </tr>\n",
       "    <tr>\n",
       "      <th>25475</th>\n",
       "      <td>EZYV25476</td>\n",
       "      <td>Asia</td>\n",
       "      <td>Bachelor's</td>\n",
       "      <td>Y</td>\n",
       "      <td>Y</td>\n",
       "      <td>2601</td>\n",
       "      <td>2008</td>\n",
       "      <td>South</td>\n",
       "      <td>77092.5700</td>\n",
       "      <td>Year</td>\n",
       "      <td>Y</td>\n",
       "      <td>Certified</td>\n",
       "    </tr>\n",
       "    <tr>\n",
       "      <th>25477</th>\n",
       "      <td>EZYV25478</td>\n",
       "      <td>Asia</td>\n",
       "      <td>Master's</td>\n",
       "      <td>Y</td>\n",
       "      <td>N</td>\n",
       "      <td>1121</td>\n",
       "      <td>1910</td>\n",
       "      <td>South</td>\n",
       "      <td>146298.8500</td>\n",
       "      <td>Year</td>\n",
       "      <td>N</td>\n",
       "      <td>Certified</td>\n",
       "    </tr>\n",
       "    <tr>\n",
       "      <th>25478</th>\n",
       "      <td>EZYV25479</td>\n",
       "      <td>Asia</td>\n",
       "      <td>Master's</td>\n",
       "      <td>Y</td>\n",
       "      <td>Y</td>\n",
       "      <td>1918</td>\n",
       "      <td>1887</td>\n",
       "      <td>West</td>\n",
       "      <td>86154.7700</td>\n",
       "      <td>Year</td>\n",
       "      <td>Y</td>\n",
       "      <td>Certified</td>\n",
       "    </tr>\n",
       "    <tr>\n",
       "      <th>25479</th>\n",
       "      <td>EZYV25480</td>\n",
       "      <td>Asia</td>\n",
       "      <td>Bachelor's</td>\n",
       "      <td>Y</td>\n",
       "      <td>N</td>\n",
       "      <td>3195</td>\n",
       "      <td>1960</td>\n",
       "      <td>Midwest</td>\n",
       "      <td>70876.9100</td>\n",
       "      <td>Year</td>\n",
       "      <td>Y</td>\n",
       "      <td>Certified</td>\n",
       "    </tr>\n",
       "  </tbody>\n",
       "</table>\n",
       "<p>25053 rows × 12 columns</p>\n",
       "</div>"
      ],
      "text/plain": [
       "         case_id continent education_of_employee has_job_experience  \\\n",
       "0         EZYV01      Asia           High School                  N   \n",
       "1         EZYV02      Asia              Master's                  Y   \n",
       "2         EZYV03      Asia            Bachelor's                  N   \n",
       "3         EZYV04      Asia            Bachelor's                  N   \n",
       "4         EZYV05    Africa              Master's                  Y   \n",
       "...          ...       ...                   ...                ...   \n",
       "25474  EZYV25475    Africa             Doctorate                  N   \n",
       "25475  EZYV25476      Asia            Bachelor's                  Y   \n",
       "25477  EZYV25478      Asia              Master's                  Y   \n",
       "25478  EZYV25479      Asia              Master's                  Y   \n",
       "25479  EZYV25480      Asia            Bachelor's                  Y   \n",
       "\n",
       "      requires_job_training  no_of_employees  yr_of_estab  \\\n",
       "0                         N            14513         2007   \n",
       "1                         N             2412         2002   \n",
       "2                         Y            44444         2008   \n",
       "3                         N               98         1897   \n",
       "4                         N             1082         2005   \n",
       "...                     ...              ...          ...   \n",
       "25474                     N             2594         1979   \n",
       "25475                     Y             2601         2008   \n",
       "25477                     N             1121         1910   \n",
       "25478                     Y             1918         1887   \n",
       "25479                     N             3195         1960   \n",
       "\n",
       "      region_of_employment  prevailing_wage unit_of_wage full_time_position  \\\n",
       "0                     West         592.2029         Hour                  Y   \n",
       "1                Northeast       83425.6500         Year                  Y   \n",
       "2                     West      122996.8600         Year                  Y   \n",
       "3                     West       83434.0300         Year                  Y   \n",
       "4                    South      149907.3900         Year                  Y   \n",
       "...                    ...              ...          ...                ...   \n",
       "25474            Northeast       51104.7800         Year                  Y   \n",
       "25475                South       77092.5700         Year                  Y   \n",
       "25477                South      146298.8500         Year                  N   \n",
       "25478                 West       86154.7700         Year                  Y   \n",
       "25479              Midwest       70876.9100         Year                  Y   \n",
       "\n",
       "      case_status  \n",
       "0          Denied  \n",
       "1       Certified  \n",
       "2          Denied  \n",
       "3          Denied  \n",
       "4       Certified  \n",
       "...           ...  \n",
       "25474   Certified  \n",
       "25475   Certified  \n",
       "25477   Certified  \n",
       "25478   Certified  \n",
       "25479   Certified  \n",
       "\n",
       "[25053 rows x 12 columns]"
      ]
     },
     "execution_count": 231,
     "metadata": {},
     "output_type": "execute_result"
    }
   ],
   "source": [
    "non_outliers_df=visa_df[con]\n",
    "non_outliers_df"
   ]
  },
  {
   "cell_type": "code",
   "execution_count": 233,
   "id": "ad001722-8a06-4daa-9595-91d1d5656e9a",
   "metadata": {},
   "outputs": [
    {
     "data": {
      "text/plain": [
       "25480"
      ]
     },
     "execution_count": 233,
     "metadata": {},
     "output_type": "execute_result"
    }
   ],
   "source": [
    "25053+427"
   ]
  },
  {
   "cell_type": "code",
   "execution_count": 235,
   "id": "d4f2407a-fb71-48c2-87b6-194797ab828e",
   "metadata": {},
   "outputs": [
    {
     "data": {
      "text/plain": [
       "1.6758241758241759"
      ]
     },
     "execution_count": 235,
     "metadata": {},
     "output_type": "execute_result"
    }
   ],
   "source": [
    "(427/25480)*100"
   ]
  },
  {
   "cell_type": "markdown",
   "id": "68b60ac5-2be8-43e9-b05d-dcf20c548f01",
   "metadata": {},
   "source": [
    "**Remove the Outliers**"
   ]
  },
  {
   "cell_type": "code",
   "execution_count": 237,
   "id": "08c022c8-0326-49cb-ba0c-830599ce1e14",
   "metadata": {},
   "outputs": [
    {
     "data": {
      "image/png": "[encoded data removed]",
      "text/plain": [
       "<Figure size 640x480 with 2 Axes>"
      ]
     },
     "metadata": {},
     "output_type": "display_data"
    }
   ],
   "source": [
    "d=non_outliers_df['prevailing_wage']\n",
    "plt.subplot(2,1,1).hist(d)\n",
    "plt.subplot(2,1,2).boxplot(d,vert=False)\n",
    "plt.show()"
   ]
  },
  {
   "cell_type": "markdown",
   "id": "2934938e-9e2f-4ae6-a91e-b58ca8dbc3a4",
   "metadata": {},
   "source": [
    "**Outlier Imputation**\n",
    "\n",
    "- Method-1:(CAPPING)\n",
    "     - lessthan lb outliers impute with lb values\n",
    "     - greaterthan ub outliers impute with ub values\n",
    "       \n",
    "- Method-2: Every outlier replace with median"
   ]
  },
  {
   "cell_type": "markdown",
   "id": "0eb0372e-72cc-450a-a811-7b3466f929f0",
   "metadata": {},
   "source": [
    "$CAP:Winsorization$"
   ]
  },
  {
   "cell_type": "code",
   "execution_count": 253,
   "id": "607baed8-eb3c-4eba-95fc-b1044a884708",
   "metadata": {},
   "outputs": [],
   "source": [
    "l=[]\n",
    "for i in wage_data:\n",
    "    if i <lb: #outlier for LB\n",
    "        l.append(lb)\n",
    "    elif i>ub: # outlier for UB\n",
    "        l.append(ub)\n",
    "    else:\n",
    "        l.append(i)\n",
    "visa_df['wage_data_new']=l"
   ]
  },
  {
   "cell_type": "code",
   "execution_count": 257,
   "id": "d4f37b50-0bc8-4ff0-ba35-63a19fd0fbe7",
   "metadata": {},
   "outputs": [
    {
     "data": {
      "image/png": "[encoded data removed]",
      "text/plain": [
       "<Figure size 640x480 with 2 Axes>"
      ]
     },
     "metadata": {},
     "output_type": "display_data"
    }
   ],
   "source": [
    "d=visa_df['wage_data_new']\n",
    "plt.subplot(2,1,1).hist(d)\n",
    "plt.subplot(2,1,2).boxplot(d,vert=False)\n",
    "plt.show()"
   ]
  },
  {
   "cell_type": "code",
   "execution_count": 259,
   "id": "23814da2-6af4-4544-8dda-3c05165ad023",
   "metadata": {},
   "outputs": [
    {
     "data": {
      "image/png": "[encoded data removed]",
      "text/plain": [
       "<Figure size 640x480 with 2 Axes>"
      ]
     },
     "metadata": {},
     "output_type": "display_data"
    }
   ],
   "source": [
    "d=visa_df['prevailing_wage'].clip(lb,ub)\n",
    "plt.subplot(2,1,1).hist(d)\n",
    "plt.subplot(2,1,2).boxplot(d,vert=False)\n",
    "plt.show()"
   ]
  },
  {
   "cell_type": "code",
   "execution_count": 299,
   "id": "b2f42f37-31f9-44c3-9730-d1a8bed9a13c",
   "metadata": {},
   "outputs": [],
   "source": [
    "q1 = np.percentile(wage_data, 25)\n",
    "q3 = np.percentile(wage_data, 75)\n",
    "IQR = q3 - q1\n",
    "lb = q1 - 1.5 * IQR\n",
    "ub = q3 + 1.5 * IQR"
   ]
  },
  {
   "cell_type": "code",
   "execution_count": 301,
   "id": "3ba42fec-2216-4df9-a878-4074ea0c63f4",
   "metadata": {},
   "outputs": [],
   "source": [
    "wage_data_new1 = []\n",
    "for i in wage_data:\n",
    "    if i < lb:\n",
    "        wage_data_new1.append(lb)\n",
    "    elif i > ub:\n",
    "        wage_data_new1.append(ub)\n",
    "    else:\n",
    "        wage_data_new1.append(i)"
   ]
  },
  {
   "cell_type": "code",
   "execution_count": 297,
   "id": "08943d95-b44f-4c1c-bec1-64ca0f255e4b",
   "metadata": {},
   "outputs": [
    {
     "data": {
      "image/png": "[encoded data removed]",
      "text/plain": [
       "<Figure size 1400x800 with 4 Axes>"
      ]
     },
     "metadata": {},
     "output_type": "display_data"
    }
   ],
   "source": [
    "plt.figure(figsize=(14, 8))\n",
    "\n",
    "plt.subplot(2, 2, 1)\n",
    "plt.hist(wage_data, bins=20, color='green')\n",
    "plt.title(\"Histogram with outliers\")\n",
    "\n",
    "plt.subplot(2, 2, 2)\n",
    "plt.hist(wage_data_new, bins=20, color='blue')\n",
    "plt.title(\"Histogram without outliers\")\n",
    "\n",
    "plt.subplot(2, 2, 3)\n",
    "plt.boxplot(wage_data, vert=False)\n",
    "plt.title(\"Boxplot with outliers\")\n",
    "\n",
    "plt.subplot(2, 2, 4)\n",
    "plt.boxplot(wage_data_new, vert=False)\n",
    "plt.title(\"Boxplot without outliers\")\n",
    "\n",
    "plt.tight_layout()\n",
    "plt.show()"
   ]
  },
  {
   "cell_type": "code",
   "execution_count": null,
   "id": "503778b4-1f31-4ce2-a465-4a74123dfcb7",
   "metadata": {},
   "outputs": [],
   "source": []
  },
  {
   "cell_type": "code",
   "execution_count": 283,
   "id": "b0d6b85f-faa0-4a31-8049-22674cef87db",
   "metadata": {},
   "outputs": [],
   "source": [
    "wage_data_new = []\n",
    "for i in wage_data:\n",
    "    if i < lb:\n",
    "        wage_data_new.append(lb)\n",
    "    elif i > ub:\n",
    "        wage_data_new.append(ub)\n",
    "    else:\n",
    "        wage_data_new.append(i)"
   ]
  },
  {
   "cell_type": "code",
   "execution_count": 289,
   "id": "944293b8-1461-4e05-b65e-2444e7d67658",
   "metadata": {},
   "outputs": [
    {
     "data": {
      "image/png": "[encoded data removed]",
      "text/plain": [
       "<Figure size 800x400 with 4 Axes>"
      ]
     },
     "metadata": {},
     "output_type": "display_data"
    }
   ],
   "source": [
    "plt.figure(figsize=(8, 4))\n",
    "\n",
    "\n",
    "plt.subplot(2, 2, 1)\n",
    "plt.hist(wage_data, bins=20, color='cornflowerblue')\n",
    "plt.title(\"Histogram with outliers\")\n",
    "\n",
    "\n",
    "plt.subplot(2, 2, 2)\n",
    "plt.hist(wage_data_new, bins=20, color='steelblue')\n",
    "plt.title(\"Histogram without outliers\")\n",
    "\n",
    "\n",
    "plt.subplot(2, 2, 3)\n",
    "plt.boxplot(wage_data, vert=False)\n",
    "plt.title(\"Boxplot with outliers\")\n",
    "\n",
    "\n",
    "plt.subplot(2, 2, 4)\n",
    "plt.boxplot(wage_data_new, vert=False)\n",
    "plt.title(\"Boxplot without outliers\")\n",
    "\n",
    "plt.tight_layout()\n",
    "plt.show()"
   ]
  },
  {
   "cell_type": "code",
   "execution_count": null,
   "id": "ad8a0bf9-d9c2-4c41-bbc6-438bc7436c22",
   "metadata": {},
   "outputs": [],
   "source": []
  }
 ],
 "metadata": {
  "kernelspec": {
   "display_name": "Python [conda env:base] *",
   "language": "python",
   "name": "conda-base-py"
  },
  "language_info": {
   "codemirror_mode": {
    "name": "ipython",
    "version": 3
   },
   "file_extension": ".py",
   "mimetype": "text/x-python",
   "name": "python",
   "nbconvert_exporter": "python",
   "pygments_lexer": "ipython3",
   "version": "3.12.7"
  }
 },
 "nbformat": 4,
 "nbformat_minor": 5
}
